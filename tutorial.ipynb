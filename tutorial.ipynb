{
  "cells": [
    {
      "cell_type": "markdown",
      "metadata": {
        "id": "DlbL1h70UYRK"
      },
      "source": [
        "<table class=\"table\">\n",
        "    <thead>\n",
        "        <tr>\n",
        "            <td>\n",
        "                <img src=\"https://github.com/HugoLebredo/FI_PYTHON_TUTORIAL/blob/main/images/giphy.gif?raw=1\" width=\"200\" height=\"200\">\n",
        "            </td>\n",
        "            <td>\n",
        "                <h1>Python</h1>\n",
        "                <h2>Una pequeña introducción</h2>\n",
        "            </td>\n",
        "        </tr>\n",
        "    </thead>\n",
        "</table>\n",
        "\n",
        "<style>\n",
        "\n",
        "    .table{\n",
        "            border-collapse:collapse;\n",
        "            text-align:center;\n",
        "            margin-left:auto;\n",
        "            margin-right:auto;\n",
        "        }\n",
        "\n",
        "</style>\n",
        "\n"
      ]
    },
    {
      "cell_type": "markdown",
      "metadata": {
        "id": "YGXzgbEBUYRQ"
      },
      "source": [
        "# Indice de contenidos\n",
        "\n",
        "A continuación se muestran las diferentes secciones de este documento.\n",
        "\n",
        "* [Asignación de valores](#asignación-de-valores-a-variables)\n",
        "* [Variables](#variables)\n",
        "    - [Números](#números)\n",
        "    - [Cadenas de caracteres](#cadenas-de-caracteres)\n",
        "* [Operadores](#operadores)\n",
        "* [Entrada/Salida por consola](#entrada/salida-por-consola)\n",
        "* [Funciones](#funciones)\n",
        "* [Estructuras de datos](#estructuras-de-datos)\n",
        "    - [Listas](#listas)\n",
        "    - [Tuplas](#tuplas)\n",
        "    - [Diccionarios](#diccionarios-📚)\n",
        "* [Estructuras de control de flujo](#estructuras-de-control-de-flujo)\n",
        "    - [Sentencias]()\n",
        "        * [IF](#if)\n",
        "    - [Bucles](#bucles)\n",
        "        * [FOR](#for)\n",
        "        * [WHILE](#while)\n",
        "* [Generadores](#generadores)\n",
        "* [Excepciones](#excepciones-🚨)\n",
        "* [Lenguajes de programación](#lenguajes-de-programación)\n",
        "    - [Programación orientada a procedimientos](#programación-orientada-a-objetos)\n",
        "    - [Programación orientada a objetos (POO)](#programación-orientada-a-objetos)\n",
        "* [Modulos](#modulos)\n"
      ]
    },
    {
      "cell_type": "markdown",
      "metadata": {
        "id": "tEYec-LkUYRR"
      },
      "source": [
        "# Asignación de valores a variables"
      ]
    },
    {
      "cell_type": "markdown",
      "metadata": {
        "id": "YE87EOlVUYRS"
      },
      "source": [
        "Las variables de Python no necesitan una declaración explícita para reservar espacio de memoria. La declaración ocurre automaticamente cuando se asigna un valor a una variable. El signo igual `=` es utilizado para asignar valores a variables.\n",
        "\n",
        "El operando a la izquierda del operador `=` es el nombre de la variable y el operando a la derecha del `=`es el valor que almacenará la variable.\n",
        "\n",
        "Por ejemplo"
      ]
    },
    {
      "cell_type": "code",
      "execution_count": null,
      "metadata": {
        "id": "RS0q2ounUYRT"
      },
      "outputs": [],
      "source": [
        "nota = 10               # Una asignación de un número entero\n",
        "temperatura = 19.76     # Una asignación de un número decimal\n",
        "nombre = \"Juan\"         # Una asignación de una cadena de caracteres"
      ]
    },
    {
      "cell_type": "markdown",
      "metadata": {
        "id": "vrJKCp7pUYRU"
      },
      "source": [
        "En la celda de código anterior `10`, `19.76` y `Juan` son los valores asignados a las variables `nota`, `temperatura` y `nombre` respectivamente. El resultado que producen es el siguiente."
      ]
    },
    {
      "cell_type": "code",
      "execution_count": null,
      "metadata": {
        "id": "wCAtLiMhUYRV"
      },
      "outputs": [],
      "source": [
        "print(nota)\n",
        "print(temperatura)\n",
        "print(nombre)"
      ]
    },
    {
      "cell_type": "markdown",
      "metadata": {
        "id": "gtR9iq8qUYRV"
      },
      "source": [
        "## Asignación múltiple"
      ]
    },
    {
      "cell_type": "markdown",
      "metadata": {
        "id": "IZGz6hStUYRW"
      },
      "source": [
        "Python asignar un único valor a diferentes variables de manera simultanea."
      ]
    },
    {
      "cell_type": "code",
      "execution_count": null,
      "metadata": {
        "id": "KDnQPGqnUYRW"
      },
      "outputs": [],
      "source": [
        "a = b = c = 1"
      ]
    },
    {
      "cell_type": "markdown",
      "metadata": {
        "id": "tGYdAbBzUYRX"
      },
      "source": [
        "También podemos asignar diferentes valores de manera simultanea."
      ]
    },
    {
      "cell_type": "code",
      "execution_count": null,
      "metadata": {
        "id": "J7xfZd53UYRX"
      },
      "outputs": [],
      "source": [
        "a,b,c = 1, 2, \"Pedro\""
      ]
    },
    {
      "cell_type": "markdown",
      "metadata": {
        "id": "Xh-V1q8UUYRX"
      },
      "source": [
        "## Borrar variables"
      ]
    },
    {
      "cell_type": "markdown",
      "metadata": {
        "id": "bbYubM6KUYRX"
      },
      "source": [
        "* Podemos borrar variables utilizando la palabra reservada `del`.\n",
        "* Es posible eliminar más de una variable en una sola instrucción."
      ]
    },
    {
      "cell_type": "code",
      "execution_count": null,
      "metadata": {
        "id": "0OYkkcRxUYRY"
      },
      "outputs": [],
      "source": [
        "del a\n",
        "del b, c"
      ]
    },
    {
      "cell_type": "markdown",
      "metadata": {
        "id": "l2TroBaxUYRY"
      },
      "source": [
        "# Variables"
      ]
    },
    {
      "cell_type": "markdown",
      "metadata": {
        "id": "YmI04V2wUYRY"
      },
      "source": [
        "De momento no hemos definido que es exaxctamente una variable así que vamos a ello 👨‍🏫.\n",
        "\n",
        "Las variables son direcciones de memoria utilizadas para almacenar valores. Esto significa que cuando se crea una variable debe reservarse algo de espacio en la memoria del ordenador.\n",
        "\n",
        "Según cual sea el tipo de dato que se guarde una variable, el interprente es capaz de decidir cuanta cantidad de memoria se necesita para almacenar la información. Según el tipo de datos que guardemos se necesitará más o menos cantidad de memoria."
      ]
    },
    {
      "cell_type": "markdown",
      "metadata": {
        "id": "o7TxrBLTUYRY"
      },
      "source": [
        "## Números"
      ]
    },
    {
      "cell_type": "markdown",
      "metadata": {
        "id": "tWYcfWy5UYRY"
      },
      "source": [
        "Los tipos de datos numéricos almacenan valores numéricos. Un objeto numérico se crea cuando se asigna número a una variable.\n",
        "Python soporta 4 tipos numéricos diferentes\n",
        "\n",
        "* **int** (números enteros)\n",
        "* **long** (enteros largos, pueden representarse en *octal* y *hexadecimal*)\n",
        "* **float** (números reales)\n",
        "* **complex** (numeros complejos)\n",
        "\n",
        "En la siguiente tabla pueden verse ejemplos de diferente notación admitida por Python para cada tipo de dato.\n",
        "\n",
        "| int   |      long      |  float | complex |\n",
        "|:-----:|:-----------:|:-----:|:------:|\n",
        "| 10 | 51924361L | 0.0 |3.14j|\n",
        "| 100| -0x19323L | 15.20 | 45.j |\n",
        "| -786 | 0122L | -21.9 | 9.322e-36j |\n",
        "| 080 | 0xDEFABCECBDAECBFBAEL | 32.3+e18 | .876j |\n",
        "| -0490 | 535633629843L | -90. | -.6545+0J |\n",
        "| -0x260 | -052318172735L | -32.54e100 | 3e+26J |\n",
        "| 0x69 | -4721885298529L | 70.2-E12 | 4.53e-7j |"
      ]
    },
    {
      "cell_type": "code",
      "execution_count": null,
      "metadata": {
        "id": "PWeIul2ZUYRZ"
      },
      "outputs": [],
      "source": [
        "var1 = 1\n",
        "var2 = 3.1416\n",
        "\n",
        "print(var1)\n",
        "print(type(var2))"
      ]
    },
    {
      "cell_type": "markdown",
      "metadata": {
        "id": "0P8zUAw3UYRZ"
      },
      "source": [
        "## Cadenas de caracteres"
      ]
    },
    {
      "cell_type": "markdown",
      "metadata": {
        "id": "CNFRlVdgUYRZ"
      },
      "source": [
        "En Python las cadenas de caracteres con conjuntos de caracteres contiguos. Una cadena de caracteres es una [lista](#listas) de caracteres.\n",
        "\n",
        "Tienen las siguientes caracteristicas.\n",
        "\n",
        "* Podemos acceder a cualquier subcadena delimitando la posición de los caracteres entre `[:]`.\n",
        "* El operador `*` seguido de un número permite multiplicar la cadena.\n",
        "* El operador `+` seguido de otra cadena de caracteres concatena las cadenas."
      ]
    },
    {
      "cell_type": "code",
      "execution_count": null,
      "metadata": {
        "id": "PY66-r1IUYRa"
      },
      "outputs": [],
      "source": [
        "str = 'Hola Mundo!'\n",
        "\n",
        "print(str)         # Muestra la cadena completa\n",
        "print(str[0])       # Muestra el primer caracter de la cadena\n",
        "print(str[2:5])    # Muestra desde el 3º caracter hasta el 5º\n",
        "print(str[2:])     # Muestra desde el 3º caracter hasta el final\n",
        "print(str * 2)     # Muestra la cadena 2 veces\n",
        "print(str + \"Prueba\") # muestra la cadena y concatena"
      ]
    },
    {
      "cell_type": "markdown",
      "metadata": {
        "id": "PEPSxsFNUYRa"
      },
      "source": [
        "### Manipulación de cadenas de caracteres"
      ]
    },
    {
      "cell_type": "markdown",
      "metadata": {
        "id": "Cv523P48UYRa"
      },
      "source": [
        "Python es un lenguaje 100% orientado a objetos eso quiere decir que considera a las cadenas de caracteres objetos. Esto significa que existen métodos propios para trabajar con las cadenas.\n",
        "\n",
        "* *upper()* sube todo en mayúsculas\n",
        "* *lower()* baja todo en minúscula\n",
        "* *capitalize()* todas la primera letra en mayúscula\n",
        "* *count()* contar una y cuantas aparecen dentro de una cadena\n",
        "* *find()* representa el índice donde aparece un carácter dentro de un texto\n",
        "* *isdigit()* devuelve un booleano si es un valor numérico o no\n",
        "* *isalum()* comprueba si es alfanuméricos\n",
        "* *isalpha* si es alpha comprueba si son solo letras\n",
        "* *split()*  separa por palabras utilizando espacios\n",
        "* *strip()* borra los espacios sobrante al principio y al final\n",
        "* *replace()* cambia una palabra o una letra por otra\n",
        "* *rfind()* representa el índice de un carácter contando desde atrás"
      ]
    },
    {
      "cell_type": "markdown",
      "metadata": {
        "id": "2zKD9JOmUYRa"
      },
      "source": [
        "## Nombres de variables"
      ]
    },
    {
      "cell_type": "markdown",
      "metadata": {
        "id": "GGWHZWQmUYRb"
      },
      "source": [
        "Los nombres de las variables están formados por **letras**, **dígitos** y **_**.\n",
        "\n",
        "❌ Restricciones\n",
        "\n",
        "* Los nombres no pueden comenzar por un **dígito** .\n",
        "* No pueden llamarse igual que alguna palabras reservada del lenguaje (por eso se llaman \"palabras reservadas\").\n",
        "* Python diferencia entre mayusculas y minusculas. `Nota` y `nota` son **variables diferentes**.\n",
        "* No pueden utilizarse espacios en blanco.\n",
        "\n",
        "💅 Siempre es recomendable que el nombre de una variable indique el dato que almacena. El código de un buen programador es facilmente interpretable."
      ]
    },
    {
      "cell_type": "markdown",
      "metadata": {
        "id": "bmY0WK60UYRb"
      },
      "source": [
        "# Operadores"
      ]
    },
    {
      "cell_type": "markdown",
      "metadata": {
        "id": "QFSnl9FZUYRb"
      },
      "source": [
        "En Python, los operadores son símbolos especiales que designan que se debe realizar algún tipo de cálculo. Los valores sobre los que actúa un operador se denominan *operandos*.\n",
        "\n",
        "Existén más operadores que los siguientes pero estos son los más importantes, si se quiere hacer un análisis más profundo se puede revisar [la documentación oficial de Python](https://docs.python.org/3/library/operator.html).\n"
      ]
    },
    {
      "cell_type": "markdown",
      "metadata": {
        "id": "S5JPUqCjUYRc"
      },
      "source": [
        "## Operadores aritmeticos"
      ]
    },
    {
      "cell_type": "markdown",
      "metadata": {
        "id": "36mHAWQMUYRc"
      },
      "source": [
        "Estos operadores se utilizan para realizar ciertas operaciones matemáticas\n",
        "\n",
        "* `+` Suma.\n",
        "* `-` Resta.\n",
        "* `*` Multiplicación.\n",
        "* `/` División.\n",
        "* `%` Módulo.\n",
        "* `//` Cociente.\n",
        "* `**` Exponente."
      ]
    },
    {
      "cell_type": "markdown",
      "metadata": {
        "id": "afSgzjswUYRc"
      },
      "source": [
        "## Operadores de comparación"
      ]
    },
    {
      "cell_type": "markdown",
      "metadata": {
        "id": "D6xVK7dAUYRc"
      },
      "source": [
        "Se utilizan para evaluar si se cumple una condición lógica. El resultado es un valor booleano (`True` o `False`).\n",
        "Estos operadores son el eje del **control de flujo**.\n",
        "\n",
        "* `==` Igual que. ¡Ojo! este se confunde mucho con el operador `=` de asignación\n",
        "* `>` Mayor que.\n",
        "* `<` Menor que.\n",
        "* `>=` Mayor o igual que.\n",
        "* `<=` Menor o igual que.\n",
        "* `!=` Diferente."
      ]
    },
    {
      "cell_type": "markdown",
      "metadata": {
        "id": "9mfK0pJeUYRc"
      },
      "source": [
        "Vamos a ver algunos ejemplos"
      ]
    },
    {
      "cell_type": "code",
      "execution_count": null,
      "metadata": {
        "id": "DCvNmydkUYRc"
      },
      "outputs": [],
      "source": [
        "#Asignamos valores\n",
        "a = 4\n",
        "b = 3\n",
        "\n",
        "# Realizamos las operaciones aritmeticas\n",
        "a + b\n",
        "a - b\n",
        "a * b\n",
        "a / b\n",
        "a % b\n",
        "a ** b\n",
        "\n",
        "# Operaciones de comparación vol 1\n",
        "a = 10\n",
        "b = 20\n",
        "a == b\n",
        "a != b\n",
        "a <= b\n",
        "a >= b\n",
        "\n",
        "# Operaciones de comparación vol 2\n",
        "a = 30\n",
        "b = 30\n",
        "a == b\n",
        "a <= b\n",
        "a >= b"
      ]
    },
    {
      "cell_type": "markdown",
      "metadata": {
        "id": "hvc-nW9MUYRe"
      },
      "source": [
        "# Entrada/Salida por consola"
      ]
    },
    {
      "cell_type": "markdown",
      "metadata": {
        "id": "0IcgPduMUYRf"
      },
      "source": [
        "Para ser útil, un programa normalmente necesita comunicarse con el mundo exterior. De alguna manera necesita obtener datos por parte del usuario usuario para trabajar con ellos y mostrar el resultado."
      ]
    },
    {
      "cell_type": "markdown",
      "metadata": {
        "id": "Y4HBYBVCUYRf"
      },
      "source": [
        "## Entrada"
      ]
    },
    {
      "cell_type": "markdown",
      "metadata": {
        "id": "-p_QkXmqUYRf"
      },
      "source": [
        "La entrada puede provenir directamente del usuario a través del teclado o de alguna fuente externa como un archivo o una base de datos. En este apartado vamos a explicar unicamente el primer caso.\n",
        "Un usuario 👨‍💻 puede insertar datos a traves de la consola de comandos mediante la instrucción `input()`.\n",
        "\n",
        "* Es posible mostrar un mensaje de texto que acompañe a `input()` para ayudar al usuario.\n",
        "* Debe de almacenrse el resultado en una variable, sino el valor introducido se pierde.\n",
        "* `input()` siempre devuelve una cadena de caracteres. Si queremos **transformar el dato explicitamente** con la función adecuada `float()`, `int()` o `complex()`."
      ]
    },
    {
      "cell_type": "markdown",
      "metadata": {
        "id": "naUeA3IwUYRl"
      },
      "source": [
        "## Salida"
      ]
    },
    {
      "cell_type": "markdown",
      "metadata": {
        "id": "CRTFOUd6UYRl"
      },
      "source": [
        "La salida se puede mostrar directamente en la consola o IDE, en la pantalla a través de una interfaz gráfica de usuario (GUI) 🖥 o nuevamente en una fuente externa. Aqui veremos la salida por pantalla que se realiza con la intrucción `print()`\n",
        "\n",
        "* Permite mostrar tanto **cadenas de texto explícitas** como **valores de variables**.\n",
        "* Tiene 2 parámetros opcionales que permiten personalizar el resultado:\n",
        "\n",
        "    1. `sep`: El separador nos permite configurar el caracter que aparecerá entre los disitintos valores a mostrar. Por defecto es un espacio en blanco.\n",
        "    2. `end`: Permite introducir el caracter (o caracteres) que se renderizarán al final. Por defecto es un *salto de linea*.\n",
        "\n",
        "* Es posible hacer `print()` de **funciones** o de tipos complejos como **listas**, **tuplas** o **diccionarios**.\n",
        "* `print()`permite la utilización de **Caracteres especiales**. Si queremos representar ciertas instrucciones como *tabulaciones* o *saltos de línea* es necesario declararlas de forma explicita. Python entiende que el determinados caracteres que sigan a `\\` tienen \"efectos especiales\".\n",
        "\n",
        "    1. `\\t` : Introduce una tabulación\n",
        "    2. `\\n` : Introduce un salto de línea"
      ]
    },
    {
      "cell_type": "code",
      "execution_count": null,
      "metadata": {
        "id": "XiGNtBcZUYRm"
      },
      "outputs": [],
      "source": [
        "a = input()\n",
        "print(a)"
      ]
    },
    {
      "cell_type": "code",
      "execution_count": null,
      "metadata": {
        "id": "90jsVp72UYRm"
      },
      "outputs": [],
      "source": [
        "print(type(a))\n",
        "b = int(a)\n",
        "print(type(b))"
      ]
    },
    {
      "cell_type": "code",
      "execution_count": null,
      "metadata": {
        "id": "RazN1osoUYRm"
      },
      "outputs": [],
      "source": [
        "print(type(a))\n",
        "a = int(a)\n",
        "print(type(a))\n"
      ]
    },
    {
      "cell_type": "code",
      "execution_count": null,
      "metadata": {
        "id": "1yg6FIDxUYRm"
      },
      "outputs": [],
      "source": [
        "a = input(\"Introduce un valor: \")\n",
        "print(a)"
      ]
    },
    {
      "cell_type": "markdown",
      "metadata": {
        "id": "fCrk7Wb3UYRn"
      },
      "source": [
        "Tipico problema con los tipos de datos\n",
        "\n",
        "Enunciado: Desarrollar un programa que pida 2 números al usuario, los sume y muestre el resultado."
      ]
    },
    {
      "cell_type": "code",
      "execution_count": null,
      "metadata": {
        "id": "LNYJlosLUYRn"
      },
      "outputs": [],
      "source": [
        "# Pedimos los datos que necesitamos\n",
        "num1 = input(\"Introduce el primer número: \")\n",
        "num2 = input(\"Introduce el segundo número: \")\n",
        "\n",
        "# Realizamos la suma\n",
        "resultado = num1 + num2\n",
        "\n",
        "# Mostramos el resultado\n",
        "print(\"El resultado de la suma es:  \", resultado)"
      ]
    },
    {
      "cell_type": "markdown",
      "metadata": {
        "id": "LPe78lTSUYRn"
      },
      "source": [
        "Aqui no hemos cambiado los tipos de las variables. **la instrucción `input()` siempre almacena cadenas de texto**. Aunque introduzcas número python va a guardar una cadena. Tenemos que transformar nuestros datos de cadena a número. Esto lo haremos con la instrucción `int(variable)`.\n",
        "\n",
        "Vamos a ver el problema resuelto‼"
      ]
    },
    {
      "cell_type": "code",
      "execution_count": null,
      "metadata": {
        "id": "5_OLh2RzUYRn"
      },
      "outputs": [],
      "source": [
        "# Pedimos los datos que necesitamos\n",
        "num1 = input(\"Introduce el primer número: \")\n",
        "num2 = input(\"Introduce el segundo número: \")\n",
        "\n",
        "# Convertimos los datos a número\n",
        "# Ojo! yo los he transformado a números enteros pero podriamos utilizar\n",
        "# la instrucción float para trabajar con decimales\n",
        "num1 = int(num1)\n",
        "num2 = int(num2)\n",
        "\n",
        "# Realizamos la suma\n",
        "resultado = num1 + num2\n",
        "\n",
        "# Mostramos el resultado\n",
        "print(\"El resultado de la suma es:  \", resultado)"
      ]
    },
    {
      "cell_type": "code",
      "execution_count": null,
      "metadata": {
        "id": "cTmpt_4eUYRo"
      },
      "outputs": [],
      "source": [
        "# Creamos las variables\n",
        "var_1 = \"Introducción\"\n",
        "var_2 = \"Nudo\"\n",
        "var_3 = \"Desenlace\"\n",
        "\n",
        "#Ejemplos básicos\n",
        "print(\"Salida por pantalla\")\n",
        "print(var_1,var_2,var_3)\n",
        "print(var_1,\"constante de texto\",var_2)\n",
        "print(\"----\")\n",
        "\n",
        "# El parámetro end siempre será el último argumento\n",
        "print(\"Ejemplos uso END\")\n",
        "print(\"salida por pantalla\", end=\"-->fin de linea<--\")\n",
        "print(\"OTRA SALIDA POR PANTALLA\")\n",
        "print(\"----\")\n",
        "\n",
        "# El parámetro sep siempre será el último argumento\n",
        "print(\"Ejemplos uso SEP\")\n",
        "print(\"salida por pantalla\", sep=\"----\") #No confundir los espacios en blanco como caracteres de separación\n",
        "print(var_1,var_2,var_3, sep=\"----\")\n",
        "print(\"----\")\n",
        "\n",
        "# Caracteres especiales\n",
        "print(\"Ejemplos caracteres especiales\", end=\"\\n\\n\")\n",
        "print(var_1,var_2,var_3, sep=\"\\t\")\n",
        "print(var_1,var_2,var_3, sep=\"\\n\")\n",
        "print(\"Pueden ir \\t entre una cadena\")"
      ]
    },
    {
      "cell_type": "markdown",
      "metadata": {
        "id": "NXwwT9qjUYRo"
      },
      "source": [
        "# Funciones"
      ]
    },
    {
      "cell_type": "markdown",
      "metadata": {
        "id": "SaGrssxaUYRo"
      },
      "source": [
        "Una función son un conjunto de instrucciones de código que permiten dividir el trabajo que hace un programa en tareas más pequeñas separadas del flujo de ejecución.\n",
        "\n",
        "Las funciones siempre tienen que devolver un valor. Esto se hace con la intrucción `return()`.\n",
        "\n",
        "El trabajo con funciones implica 2 pasos:\n",
        "\n",
        "* **Declaración de la función**: Aquí será donde se programe la función.\n",
        "\n",
        "* **Llamada a la función**: Este será el disparador en el que se ejecuta la función.\n",
        "\n",
        "    * Es una única linea de código.\n",
        "    * 👀 ¡OJO! la declaración debe ser anterior a la llamada de la función."
      ]
    },
    {
      "cell_type": "markdown",
      "metadata": {
        "id": "GxfcLQw5UYRp"
      },
      "source": [
        "## Sintaxis"
      ]
    },
    {
      "cell_type": "markdown",
      "metadata": {
        "id": "Et-n18GgUYRp"
      },
      "source": [
        "1. Función sin parámetros\n",
        "\n",
        "`def` *nombre_funcion* `():`\n",
        "\n",
        "    → *cuerpo de la función*\n",
        "    → `return()`\n",
        "\n",
        "**👁‍🗨 Un error muy frecuente es no escribir `()`‼️** cuando queremos ejecutar (llamar) a una función que no tiene parámetros.\n",
        "\n",
        "2. Función con parámertros\n",
        "\n",
        "`def` *nombre_funcion* `(`*parámetros_necesarios*`):`\n",
        "\n",
        "    → *cuerpo de la función*\n",
        "    → `return()`"
      ]
    },
    {
      "cell_type": "markdown",
      "metadata": {
        "id": "dXd30-neUYRp"
      },
      "source": [
        "## Valor por defecto a parámetros"
      ]
    },
    {
      "cell_type": "markdown",
      "metadata": {
        "id": "x01w_Q01UYRp"
      },
      "source": [
        "Python permite asignar un valor por defecto a los parámetros de una función, para esto solo tenemos que utilizar el operador `=` en la definición de la función."
      ]
    },
    {
      "cell_type": "markdown",
      "metadata": {
        "id": "c8DBru_bUYRp"
      },
      "source": [
        "### Diferentes ejemplos de llamadas a funciones válidos\n"
      ]
    },
    {
      "cell_type": "code",
      "execution_count": null,
      "metadata": {
        "id": "-4R2Q93yUYRq"
      },
      "outputs": [],
      "source": [
        "# Declaración de la función\n",
        "\n",
        "def saludo():\n",
        "    print(\"¡Buenos días desde dentro de la función 🤩!\")\n",
        "\n",
        "# Llamada a la función\n",
        "\n",
        "saludo()"
      ]
    },
    {
      "cell_type": "code",
      "execution_count": null,
      "metadata": {
        "id": "cePeFCJ6UYRq"
      },
      "outputs": [],
      "source": [
        "# Declaración de la función\n",
        "\n",
        "def calcularCubo(base):\n",
        "    return(base ** 3)\n",
        "\n",
        "# Llamada a la función\n",
        "\n",
        "result = calcularCubo(3)\n",
        "\n",
        "print(\"El resultado es \", result)"
      ]
    },
    {
      "cell_type": "code",
      "execution_count": null,
      "metadata": {
        "id": "p6RQLWbEUYRq"
      },
      "outputs": [],
      "source": [
        "# Declaración de la función\n",
        "\n",
        "def calcularPotencia(base, exponente):\n",
        "    return(base ** exponente)\n",
        "\n",
        "# Llamada a la función\n",
        "\n",
        "result = calcularPotencia(3,6)\n",
        "\n",
        "print(\"El resultado es \", result)"
      ]
    },
    {
      "cell_type": "code",
      "execution_count": null,
      "metadata": {
        "id": "xCfkubAEUYRq"
      },
      "outputs": [],
      "source": [
        "# Declaración de la función\n",
        "\n",
        "def llamadaUrgente(name, foo='Tira pa casa!'):\n",
        "    print(name,foo)\n",
        "\n",
        "# Llamada a la función\n",
        "\n",
        "llamadaUrgente('Pedro')"
      ]
    },
    {
      "cell_type": "code",
      "execution_count": null,
      "metadata": {
        "id": "-SZTDZWVUYRr"
      },
      "outputs": [],
      "source": [
        "# Declaración de la función\n",
        "\n",
        "def suma(num1=0,num2=7):\n",
        "    print(num1+num2)\n",
        "\n",
        "# Llamadas a la función\n",
        "\n",
        "suma(1,1)\n",
        "suma(1)"
      ]
    },
    {
      "cell_type": "code",
      "execution_count": null,
      "metadata": {
        "id": "KpgREk5YUYRr"
      },
      "outputs": [],
      "source": [
        "# Declaración de la función\n",
        "\n",
        "def div(a=1,b=1):\n",
        "    print(a/b)\n",
        "\n",
        "# Llamadas a la función\n",
        "\n",
        "div(10,2)\n",
        "div(2,10)\n",
        "div()\n",
        "div(b=3)\n",
        "div(4)"
      ]
    },
    {
      "cell_type": "markdown",
      "metadata": {
        "id": "xf0sycj7UYRr"
      },
      "source": [
        "### Error común"
      ]
    },
    {
      "cell_type": "markdown",
      "metadata": {
        "id": "yYULbpkFUYRr"
      },
      "source": [
        "Llamada de funciones saltandose parámetros utilizando `,` precedido de un espacio vacio"
      ]
    },
    {
      "cell_type": "code",
      "execution_count": null,
      "metadata": {
        "id": "vFpggTBUUYRs"
      },
      "outputs": [],
      "source": [
        "def suma( a=1, b=2):\n",
        "    print(a + b)\n",
        "suma(,2)"
      ]
    },
    {
      "cell_type": "markdown",
      "metadata": {
        "id": "Hp5dP9jTUYRs"
      },
      "source": [
        "## Ámbito de una función"
      ]
    },
    {
      "cell_type": "markdown",
      "metadata": {
        "id": "OP1ojVIPUYRt"
      },
      "source": [
        "Está relacionado con el \"ciclo de vida de una variable\". Es posible que en el interior de una función se creen variables (se declaren variables hablando apropiadamente). En el momento que se termine de ejecutar una función esas variables desaparecerán, dicho de otra manera, ninguna variable creada dentro de una función podrá llamarse desde fuera de la función.\n",
        "\n",
        "* Se denominan **variables globales** a las creadas en el \"flujo de ejecución principal\".\n",
        "    + Estas variable existen siempre.\n",
        "    + Puede accederse a su valor desde dentro de una función.\n",
        "    + No es posible cambiar el valor de una **variable global** desde el interior de una función. Lo que hacemos es crear una **variable local** con el mismo nombre que la global.\n",
        "* Una **variable local** es una variable creada dentro de una función.\n",
        "    + Estas variables desaparecen al terminar de ejecutarse la función.\n",
        "    + No se pueden acceder a ellas desde fuera de la función.\n",
        "    + Si necesitamos pasar el valor de una variable al \"flujo de ejecución principal\" lo haremos mediante la intrucción `return()`"
      ]
    },
    {
      "cell_type": "code",
      "execution_count": null,
      "metadata": {
        "id": "ZHqeOIa1UYRu"
      },
      "outputs": [],
      "source": [
        "a = \"variable global\"\n",
        "\n",
        "def funcionAmbito():\n",
        "    print(\"Dentro función\",a)\n",
        "\n",
        "funcionAmbito()"
      ]
    },
    {
      "cell_type": "code",
      "execution_count": null,
      "metadata": {
        "id": "qTE1ksmjUYRu"
      },
      "outputs": [],
      "source": [
        "a = \"variable global A\"\n",
        "\n",
        "# Declaración de la función\n",
        "def funcionAmbito():\n",
        "    b = \"variable local B\"\n",
        "    print(\"Dentro función\", a, sep=\" --> \")\n",
        "    print(\"Dentro función\", b, sep=\" --> \")\n",
        "\n",
        "\n",
        "print(\"Fuera función\", a)\n",
        "\n",
        "# Llamada de la función\n",
        "funcionAmbito()"
      ]
    },
    {
      "cell_type": "code",
      "execution_count": null,
      "metadata": {
        "id": "BC8XrZMcUYRv"
      },
      "outputs": [],
      "source": [
        "a = \"variable global A\"\n",
        "\n",
        "# Declaración de la función\n",
        "def funcionAmbito():\n",
        "    b = \"variable local B\"\n",
        "    print(\"Dentro función\", a, sep=\" --> \")\n",
        "    print(\"Dentro función\", b, sep=\" --> \")\n",
        "\n",
        "\n",
        "print(\"Fuera función\", a)\n",
        "\n",
        "# Llamada de la función\n",
        "funcionAmbito()\n",
        "\n",
        "#La variable b NO EXISTE.\n",
        "print(\"Fuera función\", b)"
      ]
    },
    {
      "cell_type": "code",
      "execution_count": null,
      "metadata": {
        "id": "XenW_kyEUYRv"
      },
      "outputs": [],
      "source": [
        "a = \"variable global A\"\n",
        "\n",
        "# Declaración de la función\n",
        "def funcionAmbito():\n",
        "    a = \"variable local A\"\n",
        "    print(\"Dentro función\", a, sep=\" --> \")\n",
        "\n",
        "print(\"Fuera función\", a)\n",
        "\n",
        "# Llamada de la función\n",
        "funcionAmbito()\n",
        "\n",
        "#La variable a no se modificó\n",
        "print(\"Fuera función\", a)"
      ]
    },
    {
      "cell_type": "markdown",
      "metadata": {
        "id": "LaP3Y0j8UYRv"
      },
      "source": [
        "# Estructuras de datos"
      ]
    },
    {
      "cell_type": "markdown",
      "metadata": {
        "id": "n_SFtfZ2UYRw"
      },
      "source": [
        "## LISTAS"
      ]
    },
    {
      "cell_type": "markdown",
      "metadata": {
        "id": "7-73UJWOUYRw"
      },
      "source": [
        "* Es el equivalente a los *arrays* en otros lenguajes.\n",
        "* Es una estructura que permite almacenar varios valores, **a diferencia de una variable que permite guardar un único valor**, una lista nos permite reservar varios espacios de memoria dentro del ordenador."
      ]
    },
    {
      "cell_type": "markdown",
      "metadata": {
        "id": "OANkGM6UUYRw"
      },
      "source": [
        "### Particularidades en Python"
      ]
    },
    {
      "cell_type": "markdown",
      "metadata": {
        "id": "ge7kciLVUYRw"
      },
      "source": [
        "* Se pueden expandir dinamicamente. En otros lenguajes como **Java** los *arrays* tienen un tamaño fijo.\n",
        "* En **Python** las listas pueden almacenar diferentes tipos de datos. Esto no es así en otros lenguajes, por ejemplo en **Java** que solo permite un único tipo de datos."
      ]
    },
    {
      "cell_type": "markdown",
      "metadata": {
        "id": "zrSpvgO3UYRx"
      },
      "source": [
        "### Sintaxis"
      ]
    },
    {
      "cell_type": "markdown",
      "metadata": {
        "id": "PMUQa21YUYRx"
      },
      "source": [
        "#### Creación de una lista"
      ]
    },
    {
      "cell_type": "markdown",
      "metadata": {
        "id": "n1qfFvYaUYRx"
      },
      "source": [
        "* Asignamos a una variable los corchetes `[]`.\n",
        "* Introducimos los valores que queramos separados por `,`.\n",
        "\n",
        "```python\n",
        "    listaVacia = []\n",
        "    lista = [\"Pedro\", \"Juan\", \"María\"]\n",
        "    miLista2 = [\"String\", 9, 3.676, True]\n",
        "```"
      ]
    },
    {
      "cell_type": "markdown",
      "metadata": {
        "id": "mPIMCNrrUYRx"
      },
      "source": [
        "#### Acceder a toda la lista."
      ]
    },
    {
      "cell_type": "markdown",
      "metadata": {
        "id": "M-oDND9vUYRy"
      },
      "source": [
        "Podemos hacer un `print` de toda la lista o asignarla a otra variable.\n",
        "\n",
        "```python\n",
        "    print(miLista)\n",
        "```"
      ]
    },
    {
      "cell_type": "markdown",
      "metadata": {
        "id": "59HZLxXcUYRy"
      },
      "source": [
        "#### Indices"
      ]
    },
    {
      "cell_type": "markdown",
      "metadata": {
        "id": "1T09OAxWUYRy"
      },
      "source": [
        "Gracias a los *indices* podremos movernos por una lista. Todos los valores de una lista deben de ser identificables y accesibles, esto se consigue con un *índice*."
      ]
    },
    {
      "cell_type": "markdown",
      "metadata": {
        "id": "tHE8Kb5CUYRy"
      },
      "source": [
        "##### 1. Acceder a una posición concreta de una lista."
      ]
    },
    {
      "cell_type": "markdown",
      "metadata": {
        "id": "Do4TA4fyUYRy"
      },
      "source": [
        "Para acceder a una posición escribimos:\n",
        "\n",
        "**nombre de la Lista** `[`i`]`.\n",
        "\n",
        "En **Python** el primer elemento de una lista se encuentra en la posición 0.\n",
        "\n",
        "* Primera posición `miLista[0]`.   \n",
        "* Segunda posición `miLista[1]`.\n",
        "* Tercera posición `miLista[2]`.\n",
        "\n",
        "Existen los indices negativos, de esta manera **Python** empieza a recorrer la *lista* desde final. Tienen la particularidad de empezar a contar desde `-1` no desde `0`. Es decir:\n",
        "\n",
        "* Última Posición `miLista[-1]`\n",
        "* Penúltima posición `miLista[-2]`\n",
        "* Antepenúltima posición `miLista[-3]`"
      ]
    },
    {
      "cell_type": "markdown",
      "metadata": {
        "id": "y6KXInQpUYRy"
      },
      "source": [
        "##### 2. Porciones de lista."
      ]
    },
    {
      "cell_type": "markdown",
      "metadata": {
        "id": "kkFMQuL-UYRz"
      },
      "source": [
        "Podemos acceder a un \"pedazo\" 🍰 de una lista acotando la posición inferior `a` y superior `b` en el indice separadas por `:`\n",
        "\n",
        "```python\n",
        "     miLista[a:b]\n",
        "```"
      ]
    },
    {
      "cell_type": "code",
      "execution_count": null,
      "metadata": {
        "id": "GcNtcpGNUYRz",
        "outputId": "e16d2d03-90c6-4434-8e99-c9362d47444d"
      },
      "outputs": [
        {
          "name": "stdout",
          "output_type": "stream",
          "text": [
            "['Pedro', 'Juan', 'María', 'Paco', 'Sofia']\n",
            "Pedro\n",
            "['Juan', 'María']\n"
          ]
        }
      ],
      "source": [
        "miLista = [\"Pedro\", \"Juan\", \"María\", \"Paco\", \"Sofia\"]\n",
        "print(miLista) # Imprimir toda la lista\n",
        "print(miLista[0]) # Imprimir la primera posición\n",
        "print(miLista[1:3]) # Imprimir desde la segunda posicion hasta la cuarta"
      ]
    },
    {
      "cell_type": "markdown",
      "metadata": {
        "id": "YecXIKiDUYR0"
      },
      "source": [
        "##### 3. Averiguar el índice de un elemento."
      ]
    },
    {
      "cell_type": "markdown",
      "metadata": {
        "id": "F5IJiXyFUYR0"
      },
      "source": [
        "El método **index()** nos permite averiguar en que posición se encuentra el elemento que le pasemos por parámetro.\n",
        "\n",
        "👀 Es posible que una lista tenga 2 elementos iguales con distinto indice, en ese caso `index()` nos devuelvorá siempre la posición del primer elemento.\n",
        "\n",
        "```python\n",
        "    miLista.index(\"Sandra\")\n",
        "```"
      ]
    },
    {
      "cell_type": "markdown",
      "metadata": {
        "id": "jpbSNfqyUYR0"
      },
      "source": [
        "##### 4. Saber si un elemento se encuentra en una lista."
      ]
    },
    {
      "cell_type": "markdown",
      "metadata": {
        "id": "aZR3azhOUYR0"
      },
      "source": [
        "Esto lo podemos saber con el operador `in` . Este operador es una particularidad de **Python**.\n",
        "\n",
        "* Su sintaxis es: *elemento a buscar* `in` *lista*.\n",
        "* Devuelve `true` o `false`.\n",
        "* Suele utilizarse en instrucciones `if` o bucles.\n",
        "\n",
        "```python\n",
        "    \"Leonardo\" in miLista\n",
        "```"
      ]
    },
    {
      "cell_type": "markdown",
      "metadata": {
        "id": "kwHVBx2eUYR1"
      },
      "source": [
        "#### Añadir elementos"
      ]
    },
    {
      "cell_type": "markdown",
      "metadata": {
        "id": "TUDIgX93UYR1"
      },
      "source": [
        "* **append()** Añadimos elementos al final de una lista.\n",
        "\n",
        "    ```python\n",
        "        miLista.append(\"Raul\")\n",
        "    ```\n",
        "\n",
        "* **insert()** Sirve para añadir un elemento en una posición en concreta de la lista,el resto de elementos se desplazan a la siguiente posición. El primer argumento de la función es la posición en la que queremos añadir el elemento\n",
        "\n",
        "    ```python\n",
        "        miLista.insert(3,\"Sandra\")\n",
        "    ```\n",
        "\n",
        "* **extend()** Nos permite añadir un conjunto de elementos al final de una lista. Notese que estamos añadiendo una lista por los `[]`.\n",
        "\n",
        "    ```python\n",
        "        miLista.extend([\"Jose\", \"Daniel\", \"Guillermo\"])\n",
        "    ```"
      ]
    },
    {
      "cell_type": "code",
      "execution_count": null,
      "metadata": {
        "id": "M9APfudOUYR1"
      },
      "outputs": [],
      "source": [
        "miLista=[]\n",
        "miLista.append(\"Raul\")\n",
        "miLista.insert(0,\"Sandra\")\n",
        "miLista.extend([\"Jose\", \"Daniel\", \"Guillermo\"])\n",
        "print(miLista)"
      ]
    },
    {
      "cell_type": "markdown",
      "metadata": {
        "id": "6EnG5yLkUYR1"
      },
      "source": [
        "#### Eliminar elementos"
      ]
    },
    {
      "cell_type": "markdown",
      "metadata": {
        "id": "6QedZz-hUYR1"
      },
      "source": [
        "Tenemos 2 opciones:\n",
        "\n",
        "* Utilizar el método **remove** para eliminar un elemento concreto de la lista.\n",
        "\n",
        "    ```python\n",
        "        miLista.remove(\"Daniel\")\n",
        "    ```\n",
        "\n",
        "* Con el método **pop()** eliminamos el último elemento de una lista\n",
        "\n",
        "    ```python\n",
        "        miLista.pop()\n",
        "    ```"
      ]
    },
    {
      "cell_type": "markdown",
      "metadata": {
        "id": "lZEK3I2VUYR2"
      },
      "source": [
        "#### Trabajar con operadores"
      ]
    },
    {
      "cell_type": "markdown",
      "metadata": {
        "id": "hYRKGYsyUYR2"
      },
      "source": [
        "**Python** permite trabajar con operadores en listas, lo que nos da algunas opciones, no es muy elegante trabajar así pero es cómodo. Es recomendable siempre aplicar una sintaxis prolija y clara. 🧐\n",
        "* Concatenar varias listas con el `+`.\n",
        "* Añadir una lista a otra con `+=`.\n",
        "* Repetir una lista con el *multiplicador* `*`.\n",
        "\n",
        "    ```python\n",
        "        miLista += miLista2\n",
        "        miLista * 3\n",
        "    ```"
      ]
    },
    {
      "cell_type": "markdown",
      "metadata": {
        "id": "lJpQSSAKUYR2"
      },
      "source": [
        "### Conseguir el índice"
      ]
    },
    {
      "cell_type": "code",
      "execution_count": null,
      "metadata": {
        "id": "IbbtQFyjUYR2"
      },
      "outputs": [],
      "source": [
        "print(miLista.index(\"Sandra\"))"
      ]
    },
    {
      "cell_type": "markdown",
      "metadata": {
        "id": "WVWlTjEHUYR2"
      },
      "source": [
        "### Comprobar si un elemento se encuentra en una lista"
      ]
    },
    {
      "cell_type": "code",
      "execution_count": null,
      "metadata": {
        "id": "j6wXDDUYUYR3"
      },
      "outputs": [],
      "source": [
        "\"Leonardo\" in miLista"
      ]
    },
    {
      "cell_type": "markdown",
      "metadata": {
        "id": "kZOOqxfiUYR3"
      },
      "source": [
        "### Ejercicio Listas con Pokemon"
      ]
    },
    {
      "cell_type": "markdown",
      "metadata": {
        "id": "dcMuIl8BUYR4"
      },
      "source": [
        "Vamos a simular la captura de Pokemons utilizando listas de Python.\n",
        "* Utilizaremos una lista en la que tendremos nuestros Pokemon entrenados.\n",
        "* Utilizaremos otra lista para añadir los Pokemons capturados a la Pokedex."
      ]
    },
    {
      "cell_type": "markdown",
      "metadata": {
        "id": "CbDeYjZUUYR5"
      },
      "source": [
        "<table class=\"table\">\n",
        "    <thead>\n",
        "        <tr>\n",
        "            <td>\n",
        "                <img src=\"https://github.com/HugoLebredo/FI_PYTHON_TUTORIAL/blob/main/images/pokemon.gif?raw=1\" width=\"400\" height=\"300\">\n",
        "            </td>\n",
        "        </tr>\n",
        "    </thead>\n",
        "</table>\n",
        "\n",
        "<style>\n",
        "\n",
        "    .table{\n",
        "            border-collapse:collapse;\n",
        "            text-align:center;\n",
        "            margin-left:auto;\n",
        "            margin-right:auto;\n",
        "        }\n",
        "\n",
        "</style>"
      ]
    },
    {
      "cell_type": "code",
      "execution_count": null,
      "metadata": {
        "id": "pgvYVdscUYR5",
        "outputId": "c7eb184e-4dc4-41fe-8dc4-aa8bf195f532"
      },
      "outputs": [
        {
          "name": "stdout",
          "output_type": "stream",
          "text": [
            "['charmander', 'bulbasaur', 'squirtle', 'pikachu']\n"
          ]
        }
      ],
      "source": [
        "\n",
        "\n",
        "pokedex = [\"charmander\", \"bulbasaur\", \"squirtle\"]\n",
        "\n",
        "pokedex.append(\"pikachu\")\n",
        "\n",
        "print(pokedex)\n"
      ]
    },
    {
      "cell_type": "code",
      "execution_count": null,
      "metadata": {
        "id": "I8Iz57F1UYR5",
        "outputId": "b6e4a6b9-bad9-47c4-edba-93ac24499bd0"
      },
      "outputs": [
        {
          "name": "stdout",
          "output_type": "stream",
          "text": [
            "['Butterfree', 'Clefable']\n"
          ]
        }
      ],
      "source": [
        "# Otra lista con pokemon capturados\n",
        "pokemon_Capturados = []\n",
        "pokemon_Capturados.append(\"Butterfree\")\n",
        "pokemon_Capturados.append(\"Clefable\")\n",
        "\n",
        "print(pokemon_Capturados)"
      ]
    },
    {
      "cell_type": "code",
      "execution_count": null,
      "metadata": {
        "id": "OlktgSr_UYR5",
        "outputId": "69ede283-ff44-4c84-afce-93a505e62f06"
      },
      "outputs": [
        {
          "name": "stdout",
          "output_type": "stream",
          "text": [
            "['charmander', 'bulbasaur', 'squirtle', 'pikachu', 'Butterfree', 'Clefable']\n"
          ]
        }
      ],
      "source": [
        "#Añador pokemon a pokedex\n",
        "pokedex.extend(pokemon_Capturados)\n",
        "print(pokedex)"
      ]
    },
    {
      "cell_type": "code",
      "execution_count": null,
      "metadata": {
        "id": "7NvF8osZUYR6",
        "outputId": "790de6f8-9164-45d1-c397-c8a0046e967a"
      },
      "outputs": [
        {
          "name": "stdout",
          "output_type": "stream",
          "text": [
            "['Charizard', 'charmander', 'bulbasaur', 'squirtle', 'pikachu', 'Butterfree', 'Clefable']\n"
          ]
        }
      ],
      "source": [
        "# Añadimos a Charizard el primero\n",
        "pokedex.insert(0, \"Charizard\")\n",
        "print(pokedex)"
      ]
    },
    {
      "cell_type": "code",
      "execution_count": null,
      "metadata": {
        "id": "rAjgmsHDUYR6",
        "outputId": "cad12a1c-b87e-4299-9775-56f3f75d425b"
      },
      "outputs": [
        {
          "name": "stdout",
          "output_type": "stream",
          "text": [
            "2\n"
          ]
        }
      ],
      "source": [
        "# ¿Como podemos añadir al final?\n",
        "pokemon_Capturados = []\n",
        "pokemon_Capturados.append(\"Pichu\")\n",
        "pokemon_Capturados.append(\"Butterfree\")\n",
        "\n",
        "# ¿Cuantos pokemon he caprutado (Cuantos elementos tiene mi lista)?\n",
        "print(len(pokemon_Capturados))\n"
      ]
    },
    {
      "cell_type": "code",
      "execution_count": null,
      "metadata": {
        "id": "hw7sTiXFUYR6",
        "outputId": "73c089e7-3cb6-473e-da6c-8bb5e58c9ec9"
      },
      "outputs": [
        {
          "name": "stdout",
          "output_type": "stream",
          "text": [
            "['Charizard', 'charmander', 'bulbasaur', 'squirtle', 'pikachu', 'Butterfree', 'Clefable', 'Pichu', 'Butterfree']\n"
          ]
        }
      ],
      "source": [
        "pokedex.extend(pokemon_Capturados)\n",
        "print(pokedex)"
      ]
    },
    {
      "cell_type": "code",
      "execution_count": null,
      "metadata": {
        "id": "OMMMpd5PUYR6",
        "outputId": "91a7ca33-04e1-4017-998c-dc1f828d46ae"
      },
      "outputs": [
        {
          "name": "stdout",
          "output_type": "stream",
          "text": [
            "['Butterfree', 'Butterfree', 'Charizard', 'Clefable', 'Pichu', 'bulbasaur', 'charmander', 'pikachu', 'squirtle']\n",
            "['Charizard', 'charmander', 'bulbasaur', 'squirtle', 'pikachu', 'Butterfree', 'Clefable', 'Pichu', 'Butterfree']\n"
          ]
        }
      ],
      "source": [
        "print(sorted(pokedex))\n",
        "\n",
        "# print(pokedex)"
      ]
    },
    {
      "cell_type": "code",
      "execution_count": null,
      "metadata": {
        "id": "Y40pGEMTUYR7",
        "outputId": "9bf0ff1f-2af3-4519-86eb-9e794ecf8d63"
      },
      "outputs": [
        {
          "name": "stdout",
          "output_type": "stream",
          "text": [
            "['Charizard', 'charmander', 'bulbasaur', 'squirtle', 'pikachu', 'Clefable', 'Pichu']\n"
          ]
        }
      ],
      "source": [
        "pokedex.remove(\"Butterfree\")\n",
        "\n",
        "print(pokedex)"
      ]
    },
    {
      "cell_type": "markdown",
      "metadata": {
        "id": "wVgCXgFpUYR7"
      },
      "source": [
        "## TUPLAS"
      ]
    },
    {
      "cell_type": "markdown",
      "metadata": {
        "id": "mR7sw-hjUYR7"
      },
      "source": [
        "* Son **listas inmutables**,😱 Es una estructura del tipo lista en la que no es posible realizar ninguna modificación.\n",
        "* ⚠️ No podemos utilizar las mismas funciones que con las listas."
      ]
    },
    {
      "cell_type": "markdown",
      "metadata": {
        "id": "ZDM_BT1PUYR7"
      },
      "source": [
        "###  Ventajas ✅:"
      ]
    },
    {
      "cell_type": "markdown",
      "metadata": {
        "id": "SVlEIuvzUYR7"
      },
      "source": [
        "1. Son más rápidas en la ejecución.\n",
        "2. Una tupla siempre va a ocupar menos espacio en memoria.\n",
        "3. Permiten formatear Strings.\n",
        "4. Se pueden utilizar como clave en un **diccionario**. las listas NO permiten hacer esto ❌."
      ]
    },
    {
      "cell_type": "markdown",
      "metadata": {
        "id": "FP3q8c4-UYR8"
      },
      "source": [
        "### Sintaxis:"
      ]
    },
    {
      "cell_type": "markdown",
      "metadata": {
        "id": "sCGYKVCQUYR8"
      },
      "source": [
        "#### Creación de una tupla."
      ]
    },
    {
      "cell_type": "markdown",
      "metadata": {
        "id": "Qj6Mha-wUYR8"
      },
      "source": [
        "Simplemente  se asignan los valores seguidos por comas\n",
        "\n",
        "```python\n",
        "miTupla = elemento1, elemento2, elemento3\n",
        "```\n",
        "\n",
        "aunque es recomendable envolver la tupla entre paréntesis `( ) ` .\n",
        "\n",
        "```python\n",
        "miTupla = (elemento1, elemento2, elemento3)\n",
        "```"
      ]
    },
    {
      "cell_type": "markdown",
      "metadata": {
        "id": "dgkW1ebAUYR8"
      },
      "source": [
        "#### Acceso a valores."
      ]
    },
    {
      "cell_type": "markdown",
      "metadata": {
        "id": "F74SjfU9UYR8"
      },
      "source": [
        "Para acceder a los elementos se hace igual que en un lista, a traves del *índice*. Por ejemplo para acceder al primer elemento de la tupla `miTupla[0]`."
      ]
    },
    {
      "cell_type": "markdown",
      "metadata": {
        "id": "VSAf2HxpUYR8"
      },
      "source": [
        "#### Tupla unitaria."
      ]
    },
    {
      "cell_type": "markdown",
      "metadata": {
        "id": "E0PLz9ScUYR9"
      },
      "source": [
        "Se trata de una tupla con un único valor.\n",
        "\n",
        "`miTupla = elemento1, `\n",
        "\n",
        "⚠️ Si no pusieramos la `,` hubieramos creado una variable y no una tupla"
      ]
    },
    {
      "cell_type": "markdown",
      "metadata": {
        "id": "0bSj47M5UYR9"
      },
      "source": [
        "#### Empaquetado de tupla."
      ]
    },
    {
      "cell_type": "markdown",
      "metadata": {
        "id": "y-4DAaE5UYR9"
      },
      "source": [
        "\n",
        "Podemos crear una tupla entre `()`. No existe ninguna diferencia con respecto a la creación sin parentesis.\n",
        "\n",
        "```python\n",
        "miTupla = (elemento1, elemento2, elemento3)\n",
        "```\n",
        "\n",
        "Los parentesis son opcionales pero es urecomendable. Se llama empaquetado de tupla."
      ]
    },
    {
      "cell_type": "markdown",
      "metadata": {
        "id": "V1-k0GZAUYR9"
      },
      "source": [
        "#### Desempaquetado de tupla."
      ]
    },
    {
      "cell_type": "markdown",
      "metadata": {
        "id": "R6AdmHoCUYR9"
      },
      "source": [
        "Permite asignar todos los elementos que pertenecen a una tupla a diferentes variables.\n",
        "Ejemplo: Supongamos que tenemos la siguiente tupla\n",
        "\n",
        "```python\n",
        "miTupla = (\"Juan\",13,1,1995)\n",
        "```\n",
        "\n",
        "A continuación procederemos a hacer el **Desempaquetado de tupla**. Python asigna a cada variable el elemento de la tupla correspondiente.\n",
        "\n",
        "```python\n",
        "nombre, dia, mes, anho = miTupla\n",
        "```\n",
        "\n",
        " Sería lo mismo que esto.\n",
        "\n",
        "```python\n",
        "nombre = miTupla[0]\n",
        "dia = miTupla[1]\n",
        "mes = miTupla[2]\n",
        "anho = miTupla[3]\n",
        "```"
      ]
    },
    {
      "cell_type": "markdown",
      "metadata": {
        "id": "M0HOmpNZUYR9"
      },
      "source": [
        "### Ejemplos de código"
      ]
    },
    {
      "cell_type": "code",
      "execution_count": null,
      "metadata": {
        "id": "VGlGOkU4UYR-"
      },
      "outputs": [],
      "source": [
        "mitupla=(\"Juan\",13,1,1995)\n",
        "\n",
        "print(mitupla[2])"
      ]
    },
    {
      "cell_type": "code",
      "execution_count": null,
      "metadata": {
        "id": "ZwC0VsXbUYR-"
      },
      "outputs": [],
      "source": [
        "# Convertir una tupla en una lista\n",
        "# Sabemos que se ha transformado en lista por que en el print vemos []\n",
        "\n",
        "print(mitupla)\n",
        "miLista=list(mitupla)\n",
        "print(miLista)"
      ]
    },
    {
      "cell_type": "code",
      "execution_count": null,
      "metadata": {
        "id": "YzQDh1lHUYR-"
      },
      "outputs": [],
      "source": [
        "# El proceso inverso\n",
        "\n",
        "miTupla2 = tuple(miLista)\n",
        "print(mitupla)"
      ]
    },
    {
      "cell_type": "code",
      "execution_count": null,
      "metadata": {
        "id": "KOgjISUnUYR-"
      },
      "outputs": [],
      "source": [
        "## si queremos comprobar si un valor está dentro de la lista\n",
        "\n",
        "print(\"Juan\" in mitupla)"
      ]
    },
    {
      "cell_type": "code",
      "execution_count": null,
      "metadata": {
        "id": "RgbCRsdoUYR-"
      },
      "outputs": [],
      "source": [
        "# El metodo count cuenta el número de elementos con un valor dentro de una tupla\n",
        "\n",
        "print(mitupla.count(\"Juan\"))"
      ]
    },
    {
      "cell_type": "code",
      "execution_count": null,
      "metadata": {
        "id": "i0lIr3GZUYR_"
      },
      "outputs": [],
      "source": [
        "# El metodo len permite aberiguar el numero de elementos que tiene una tupla\n",
        "\n",
        "print(len(mitupla))"
      ]
    },
    {
      "cell_type": "code",
      "execution_count": null,
      "metadata": {
        "id": "4kKjLcRYUYR_"
      },
      "outputs": [],
      "source": [
        "# Tupla unitaria, es decir que tiene un único elemento.\n",
        "# Se escribe con una coma al final.\n",
        "\n",
        "tuplaUnitaria = (\"Pepe\",)\n",
        "\n",
        "print(tuplaUnitaria)"
      ]
    },
    {
      "cell_type": "markdown",
      "metadata": {
        "id": "g7tBvzw4UYSC"
      },
      "source": [
        "## DICCIONARIOS 📚\n",
        "* Son estructuras de datos parecidas a **tuplas** y **listas** en las que al almacenar los datos se produce una asociación del tipo *clave:valor*.\n",
        "* Una ***clave*** debe ser única.\n",
        "* ⛔️ Una ***clave*** No puede modificarse.\n",
        "* Al tener una ***clave*** no importa el orden en el que se almacenan los elementos ***valor***.\n",
        "* Las ***claves*** no tienen que seguir ningún patron, ni siquiera tienen que ser del mismo tipo, pueden ser cadenas o números. Python es muy flexible en eso.\n",
        "* En un diccionario pueden almacenarse datos sencillos como números o cadenas de texto o estructuras más complejas como listas, tuplas o incluso otro diccionario.\n",
        "\n",
        "### Sintaxis:\n",
        "#### Creación de un diccionario\n",
        "* Un diccionario debe ir entre `{}`.\n",
        "* Cada elemento que compone el diccionario debe poseer una estructura ***clave:valor***.\n",
        "  * El caracter `:` separa la *clave* (parte izquierda) del *valor* (parte derecha).\n",
        "  * Se utiliza la coma `,` para ir añadiendo elementos en el diccionario.\n",
        "  * Los valores pueden contener listas,tuplas u otros diccionarios.\n",
        "\n",
        "#### Diccionario vacio\n",
        "\n",
        "```python\n",
        "    miDiccionario = {}\n",
        "```\n",
        "\n",
        "#### Diccionario con un único elemento clave:valor\n",
        "\n",
        "```python\n",
        "    miDiccionario2 = {\"Alemania\":\"Berlin\"}\n",
        "```\n",
        "\n",
        "#### Diccionario con 3 elementos clave:valor\n",
        "\n",
        "```python\n",
        "    miDiccionario3 = {\"Alemania\":\"Berlin\", \"Francia\":\"París\", \"España\":\"Madrid\"}\n",
        "```\n",
        "\n",
        "#### Diccionario con diferentes valores de diferente tipo.\n",
        "\n",
        "```python\n",
        "    miDiccionario4 = {\"Nombre\":\"Iker Casillas\", \"Pais\":\"España\", \"dorsal\":1,\n",
        "        \"Equipos\":(\"Real Madrid\",\"Oporto\"),\n",
        "        \"FechaNacimiento\":{\"dia\":20,\"Mes\":Mayo,\"Anho\":1981}}\n",
        "```\n",
        "\n",
        "#### Acceso a un valor concreto\n",
        "\n",
        "```python\n",
        "    miDiccionario2[\"Francia\"]\n",
        "```\n",
        "\n",
        "#### Acceder a un diccionario entero\n",
        "\n",
        "```python\n",
        "    print(miDiccionario)\n",
        "```\n",
        "\n",
        "#### Agregar elementos a un diccionario.\n",
        "Tenemos que indicar tanto la clave como el valor. Cuidado. Si existe un elemento con la clave a la que vayamos a acceder, se modificará el valor correspondiente **Un diccionario no puede tener 2 elementos con la misma clave**.\n",
        "\n",
        "```python\n",
        "    miDiccionario[\"Argentina\"] = \"Lima\"\n",
        "```\n",
        "\n",
        "#### Modificar value en un diccionario.\n",
        "los valores se sobreescriben, no se guardan 2 elementos con la misma clave\n",
        "\n",
        "```python\n",
        "    miDiccionario[\"Argentina\"] = \"Buenos Aires\"\n",
        "```\n",
        "\n",
        "#### Eliminar un elemento\n",
        "para eliminar un elemento del diccionario se utiliza el método `del()` y se le pasa como parámetro el elemento del diccionario que se desea eliminar.\n",
        "\n",
        "```python\n",
        "    del(miDiccionario[\"Alemania\"])\n",
        "```\n",
        "#### Metodos importantes\n",
        "* *Keys()*, devuelve las claves de un diccionario\n",
        "\n",
        "```python\n",
        "        miDiccionario.keys()\n",
        "```\n",
        "\n",
        "* *values()*, devuelve los valores de un diccionario\n",
        "\n",
        "```python\n",
        "        miDiccionario.values()\n",
        "```\n",
        "\n",
        "* *len()* devuelve la longitud de un diccionario\n",
        "\n",
        "```python\n",
        "        len(miDiccionario)\n",
        "```\n",
        "\n"
      ]
    },
    {
      "cell_type": "markdown",
      "metadata": {
        "id": "jxYhGQ7tUYSC"
      },
      "source": [
        "### Ejemplos de código"
      ]
    },
    {
      "cell_type": "code",
      "execution_count": null,
      "metadata": {
        "id": "JhLXI9AtUYSC"
      },
      "outputs": [],
      "source": [
        "# Definimos 2 diccionarios\n",
        "\n",
        "miDiccionario = {\"Alemania\":\"Berlin\",\"Francia\":\"París\",\"España\":\"Madrid\"}\n",
        "\n",
        "miDiccionario2 = {\"Alemania\":\"Berlin\",10:\"Maradona\",\"Mosqueteros\":4}\n",
        "\n",
        "# Acceder a un elemento concreto del diccionario\n",
        "\n",
        "print(miDiccionario[\"Francia\"])"
      ]
    },
    {
      "cell_type": "code",
      "execution_count": null,
      "metadata": {
        "id": "CMBFu9H1UYSD"
      },
      "outputs": [],
      "source": [
        "# Acceder a un diccionario entero\n",
        "\n",
        "print(miDiccionario)"
      ]
    },
    {
      "cell_type": "code",
      "execution_count": null,
      "metadata": {
        "id": "YWvsII6tUYSD"
      },
      "outputs": [],
      "source": [
        "# Agregar elementos a un diccionario\n",
        "\n",
        "miDiccionario[\"Argentina\"]=\"Lima\"\n",
        "print(miDiccionario)"
      ]
    },
    {
      "cell_type": "code",
      "execution_count": null,
      "metadata": {
        "id": "lmE-V84FUYSD"
      },
      "outputs": [],
      "source": [
        "# Modificar un valor a una clave erronea, los valores se sobreescriben,\n",
        "# no se guardan 2 elementos con la misma clave\n",
        "\n",
        "miDiccionario[\"Argentina\"]=\"Buenos Aires\"\n",
        "print(miDiccionario)"
      ]
    },
    {
      "cell_type": "code",
      "execution_count": null,
      "metadata": {
        "id": "QfNV4pT2UYSD"
      },
      "outputs": [],
      "source": [
        "# Como eliminar un elemento\n",
        "\n",
        "del(miDiccionario[\"Alemania\"])\n",
        "print(miDiccionario)"
      ]
    },
    {
      "cell_type": "code",
      "execution_count": null,
      "metadata": {
        "id": "RkH7zpeUUYSD"
      },
      "outputs": [],
      "source": [
        "# Metodo Keys, devuelve las claves de un diccionario\n",
        "print(miDiccionario.keys())"
      ]
    },
    {
      "cell_type": "code",
      "execution_count": null,
      "metadata": {
        "id": "j7HGwddFUYSE"
      },
      "outputs": [],
      "source": [
        "# Metodo values, devuelve los valores de un diccionario\n",
        "print(miDiccionario.values())"
      ]
    },
    {
      "cell_type": "code",
      "execution_count": null,
      "metadata": {
        "id": "GrxX5kdfUYSE"
      },
      "outputs": [],
      "source": [
        "# Metodo len devuelve la longitud de un diccionario\n",
        "print(len(miDiccionario))"
      ]
    },
    {
      "cell_type": "code",
      "execution_count": null,
      "metadata": {
        "id": "rCuwg0azUYSE"
      },
      "outputs": [],
      "source": [
        "# Tuplas y Diccionarios\n",
        "\n",
        "mitupla=(\"España\",\"Francia\", \"Reino Unido\",\"Alemania\")\n",
        "miDiccionario3= {mitupla[0]:\"Madrid\",mitupla[1]:\"Paris\"}\n",
        "print(miDiccionario3)"
      ]
    },
    {
      "cell_type": "markdown",
      "metadata": {
        "id": "q1EyqBXXUYSE"
      },
      "source": [
        "# Estructuras de control de flujo"
      ]
    },
    {
      "cell_type": "markdown",
      "metadata": {
        "id": "zSuMO9EPUYSE"
      },
      "source": [
        "El flujo de ejecución de un programa es el orden que sigue un programa a la hora de ejecutar las instrucciones que lo componen. Normalmente ese orden es de arriba a abjajo pero ese orden puede verse alterado por diversas causas. Una de esas causas son las estructuras de control de flujo.\n",
        "\n",
        "En un programa no tienen que ejecutarse la totalidad de sus instrucciones. Algunas operaciones solo se ejecutarán si se cumple alguna condición que dispare ciertas operaciones y otras deben de repetirse cierto numero de veces La sintaxis de Python permite definir estas situaciones.\n",
        "\n",
        "Para este apartado vamos a recordar los operadores de comparación ya que serán los que permitan o no ejecutar esas lineas de código."
      ]
    },
    {
      "cell_type": "markdown",
      "metadata": {
        "id": "4bSRsKcfUYSF"
      },
      "source": [
        "## Recordatorio: Operadores de comparación"
      ]
    },
    {
      "cell_type": "markdown",
      "metadata": {
        "id": "3yrWV4OzUYSF"
      },
      "source": [
        "* `==` Igual que.\n",
        "* `>` Mayor que.\n",
        "* `<` Menor que.\n",
        "* `>=` Mayor o igual que.\n",
        "* `<=` Menor o igual que.\n",
        "* `!=` Diferente."
      ]
    },
    {
      "cell_type": "markdown",
      "metadata": {
        "id": "DFZySjouUYSF"
      },
      "source": [
        "## Condicionales"
      ]
    },
    {
      "cell_type": "markdown",
      "metadata": {
        "id": "R1vEjLUAUYSF"
      },
      "source": [
        "Un condicional es un conjunto de instrucciones que solo se ejecutan si se cumple una condición. ¿Como puede saber un programa si se cumple una condición? Gracias a los **operadores de comparación**.\n",
        "\n",
        "Una estructura condicional no es más que una instrucción a ejecutar dentro de nuestro programa. Cuando nuestro programa lee ese condicional lo evalua. La condición puede ser verdadera o falsa. Esas son las 2 únicas alternativas. Si esa condición es verdadera el flujo de ejecución ejecuta las instrucciones que se encuentren dentro de ese condicional.\n",
        "\n",
        "Si al evaluar la condición es falsa, el flujo de ejecución salta ese bloque de código y continúa con la siguiente ejecución que se encuentre fuera de esa condición."
      ]
    },
    {
      "cell_type": "markdown",
      "metadata": {
        "id": "CFXluky-UYSF"
      },
      "source": [
        "### IF"
      ]
    },
    {
      "cell_type": "markdown",
      "metadata": {
        "id": "xRt9Vs6qUYSF"
      },
      "source": [
        "* Es la instrucción condicional más importante.\n",
        "* Es capaz de evaluar una o varias condiciones.\n",
        "* En Python (y en la gran mayoría de lenguajes de programación) podemos incluir un bloque de instrucciones a ejecutar si no se cumple la condición a evaluar mediante la palabra `else`."
      ]
    },
    {
      "cell_type": "markdown",
      "metadata": {
        "id": "HAPgH7gfUYSG"
      },
      "source": [
        "#### Sintaxis:"
      ]
    },
    {
      "cell_type": "markdown",
      "metadata": {
        "id": "cYZpR3ubUYSG"
      },
      "source": [
        "`if (` *condición a cumplir*`):`\n",
        "\n",
        "    → *instrucciones a ejecutar si se cumple la condición*\n",
        "\n",
        "`else:`\n",
        "\n",
        "    → *instrucciones a ejecutar si NO cumple la condición*"
      ]
    },
    {
      "cell_type": "code",
      "execution_count": null,
      "metadata": {
        "id": "k3r8H2V_UYSG"
      },
      "outputs": [],
      "source": [
        "nota = 4\n",
        "if nota < 5:\n",
        "    print(\"Suspenso\")"
      ]
    },
    {
      "cell_type": "code",
      "execution_count": null,
      "metadata": {
        "id": "R6sP1fLUUYSG"
      },
      "outputs": [],
      "source": [
        "nota = 7\n",
        "if nota < 5:\n",
        "    print(\"Suspenso\")\n",
        "else:\n",
        "    print(\"Aprobado\")"
      ]
    },
    {
      "cell_type": "markdown",
      "metadata": {
        "id": "E_g1eMTWUYSG"
      },
      "source": [
        "Podemos incluir esta lógica dentro de una función y llamarla siempre que la necesitemos, así no tenemos que escribir el `if`varias veces. Veamos un ejemplo:"
      ]
    },
    {
      "cell_type": "code",
      "execution_count": null,
      "metadata": {
        "id": "IISDUHmPUYSH"
      },
      "outputs": [],
      "source": [
        "# Definición de la función\n",
        "def notaAlumnno(nota):\n",
        "    calificacion = \"Aprobado\"\n",
        "\n",
        "    if nota < 5:\n",
        "        calificacion = \"Suspenso\"\n",
        "\n",
        "    print(calificacion)\n",
        "\n",
        "# Llamadas a la función\n",
        "notaAlumnno(4)\n",
        "notaAlumnno(7)"
      ]
    },
    {
      "cell_type": "code",
      "execution_count": null,
      "metadata": {
        "id": "eusxIslKUYSH"
      },
      "outputs": [],
      "source": [
        "print(\"Control de acceso a la discoteca\")\n",
        "\n",
        "edad_usuario = 16\n",
        "\n",
        "if edad_usuario >= 18:\n",
        "    permiso = True\n",
        "else:\n",
        "    permiso = False\n",
        "\n",
        "print(permiso)\n",
        "\n",
        "print(\"El programa ha terminado\")\n",
        ""
      ]
    },
    {
      "cell_type": "markdown",
      "metadata": {
        "id": "yUVt8iLHUYSH"
      },
      "source": [
        "#### If con varias condiciones"
      ]
    },
    {
      "cell_type": "markdown",
      "metadata": {
        "id": "8QM8YdTyUYSH"
      },
      "source": [
        "Podemos programar `if` más sofisiticados concatenando varias condiciones con unos operadores especiales:\n",
        "* `and`: Se tienen que cumplir todas las condiciones.\n",
        "* `or`: Se tiene que cumplir al menos una condición."
      ]
    },
    {
      "cell_type": "code",
      "execution_count": null,
      "metadata": {
        "id": "ZIyObOLAUYSH"
      },
      "outputs": [],
      "source": [
        "# Población activa\n",
        "edad = 19\n",
        "if edad > 18 and edad <= 65:\n",
        "    print(\"El sujeto es población activa \")\n",
        "else:\n",
        "    print(\"El sujeto No forma parte de la población activa\")"
      ]
    },
    {
      "cell_type": "code",
      "execution_count": null,
      "metadata": {
        "id": "SkvN7U75UYSI"
      },
      "outputs": [],
      "source": [
        "edad = 19\n",
        "BuscaEmpleo = False\n",
        "if edad >= 16 and edad <= 65 and BuscaEmpleo == True:\n",
        "    print(\"El sujeto es población activa \")\n",
        "else:\n",
        "    if BuscaEmpleo == False:\n",
        "        print(\"El sujeto no está buscando empleo\")"
      ]
    },
    {
      "cell_type": "code",
      "execution_count": null,
      "metadata": {
        "id": "XVG8yTXcUYSI"
      },
      "outputs": [],
      "source": [
        "edad = 72\n",
        "BuscaEmpleo = False\n",
        "\n",
        "if edad >= 16 and edad <= 65 and BuscaEmpleo == True:\n",
        "    print(\"El sujeto es población activa \")\n",
        "else:\n",
        "    if BuscaEmpleo == False:\n",
        "        print(\"El sujeto no está buscando empleo\")\n",
        "    if edad >= 65:\n",
        "        print(\"El sujeto es un jubilado\")"
      ]
    },
    {
      "cell_type": "code",
      "execution_count": null,
      "metadata": {
        "id": "NznEIutpUYSI",
        "outputId": "e240f1b1-2ca5-4515-c465-f0476a2963e5"
      },
      "outputs": [
        {
          "name": "stdout",
          "output_type": "stream",
          "text": [
            "El sujeto no tiene la edad mínima necesaria\n"
          ]
        }
      ],
      "source": [
        "edad = 72\n",
        "BuscaEmpleo = False\n",
        "\n",
        "if edad >= 16 and edad <= 65 and BuscaEmpleo == True:\n",
        "    print(\"El sujeto es población activa \")\n",
        "else:\n",
        "    if BuscaEmpleo == True:\n",
        "        print(\"El sujeto no está buscando empleo\")\n",
        "        if edad >= 65:\n",
        "            print(\"El sujeto es un jubilado\")\n",
        "    else:\n",
        "        print(\"El sujeto no tiene la edad mínima necesaria\")"
      ]
    },
    {
      "cell_type": "markdown",
      "metadata": {
        "id": "DcESifhiUYSI"
      },
      "source": [
        "El ejemplo anterior tiene un problema **muestra 2 salidas por pantalla**. Cuando los programas ganan complejidad pueden pasar estas cosas. No está bien que esto ocurra ya que necesitamos mostrar una única salida."
      ]
    },
    {
      "cell_type": "markdown",
      "metadata": {
        "id": "iDzYYNIsUYSJ"
      },
      "source": [
        "### elseif"
      ]
    },
    {
      "cell_type": "markdown",
      "metadata": {
        "id": "6Vdck2MlUYSK"
      },
      "source": [
        "Existe una instrucción que corta la ejecución cuando se produce la primera concurrencia dentro de los `else`. Lo que podemos utilizar es la palabra `elif`.\n",
        "\n",
        "Vamos a ver un ejemplo."
      ]
    },
    {
      "cell_type": "code",
      "execution_count": null,
      "metadata": {
        "id": "rsvA2rVFUYSK"
      },
      "outputs": [],
      "source": [
        "# Definición de la función\n",
        "\n",
        "def notaAlumno(nota):\n",
        "\n",
        "    calificacion = \"NA\"\n",
        "\n",
        "    if nota < 5:\n",
        "        calificacion = \"Suspenso\"\n",
        "    elif nota < 7:\n",
        "        calificacion = \"Aprobado\"\n",
        "    elif nota < 9:\n",
        "        calificacion = \"Notable\"\n",
        "    else:\n",
        "        calificacion = \"Sobresaliente\"\n",
        "\n",
        "    return(calificacion)\n",
        "\n",
        "# Llamada a la función\n",
        "\n",
        "print(notaAlumno(6))"
      ]
    },
    {
      "cell_type": "markdown",
      "metadata": {
        "id": "gMo6VgCOUYSL"
      },
      "source": [
        "## Bucles"
      ]
    },
    {
      "cell_type": "markdown",
      "metadata": {
        "id": "5JwsfwTCUYSL"
      },
      "source": [
        "La utilidad del bucle es repetir una o más líneas de código varias veces.\n",
        "\n",
        "Existen 2 tipos de bucles en Python.\n",
        "\n",
        "A.  Determinados\n",
        "\n",
        "* Se ejecutan un número determinado de veces.\n",
        "* Se sabe a priori cuantas veces se va a ejecutar el bucle o dicho de otra forma, el código que se encuentra en el interior del bucle.\n",
        "\n",
        "B.  Indeterminados\n",
        "\n",
        "* Se ejecutan un número indeterminado de veces.\n",
        "* No se puede saber a priori cuantas veces se va a ejecutar el código del interior del bucle.\n",
        "* La cantidad de veces que se ejecute dependerá de las circunstancias durante la ejecución del programa."
      ]
    },
    {
      "cell_type": "markdown",
      "metadata": {
        "id": "exkfHTZjUYSL"
      },
      "source": [
        "### FOR"
      ]
    },
    {
      "cell_type": "markdown",
      "metadata": {
        "id": "5JsZChcBUYSL"
      },
      "source": [
        "* Es un bucle del tipo determinado.\n",
        "* Es muy utilizado en cualquier lenguaje de programación."
      ]
    },
    {
      "cell_type": "markdown",
      "metadata": {
        "id": "ELwO1GrkUYSL"
      },
      "source": [
        "#### Sintaxis"
      ]
    },
    {
      "cell_type": "markdown",
      "metadata": {
        "id": "6RQHLm3mUYSM"
      },
      "source": [
        "`for` *variable* `in` *elemento_A_Recorrer* `:`\n",
        "\n",
        "    → *cuerpo del bucle*\n",
        "\n",
        "* **Elemento a recorrer** puede ser una lista, tupla, cadena de texto, un rango, etc...\n",
        "* El **cuerpo** del bucle tiene una identación (sangria). Si tenemos varias lineas de código todas tienen que estar identadas.\n",
        "* El nombre de la **variable** suele llamarse *i* por notación pero no es obligatorio."
      ]
    },
    {
      "cell_type": "code",
      "execution_count": null,
      "metadata": {
        "id": "uQ_n-VgtUYSM"
      },
      "outputs": [],
      "source": [
        "# Va a mostrar por pantalla \"Hola\" 3 veces porque el elemento a recorrer tiene 3 posiciones\n",
        "for i in [1,2,3]:\n",
        "    print(\"Hola\")"
      ]
    },
    {
      "cell_type": "code",
      "execution_count": null,
      "metadata": {
        "id": "wIVJAig0UYSM"
      },
      "outputs": [],
      "source": [
        "# El elemento a recorrer  tiene 4 posiciones. Mismo resultado\n",
        "for i in [\"primavera\",\"verano\",\"otoño\",\"invierno\"]:\n",
        "    print(\"Hola\")"
      ]
    },
    {
      "cell_type": "code",
      "execution_count": null,
      "metadata": {
        "id": "mPs7O1TMUYSM"
      },
      "outputs": [],
      "source": [
        "# Cada salida por pantalla es la variable\n",
        "# La variable hace referencia en cada iteración a un elemento.\n",
        "for i in [\"primavera\",\"verano\",\"otoño\",\"invierno\"]:\n",
        "    print(i)"
      ]
    },
    {
      "cell_type": "markdown",
      "metadata": {
        "id": "9aPXJJsDUYSN"
      },
      "source": [
        "#### Recorrer Strings"
      ]
    },
    {
      "cell_type": "markdown",
      "metadata": {
        "id": "cpNVY4pXUYSN"
      },
      "source": [
        "Cada iteración del bucle crea un salto de línea por defecto pero podemos modificar este comportamiento utilizando el parámetro `end` dentro de una instrucción `print`. El salto de línea se modifica por lo que introduzcamos como valor de dicho parámetro.\n",
        "\n",
        "Veamos algunos ejemplos:"
      ]
    },
    {
      "cell_type": "code",
      "execution_count": null,
      "metadata": {
        "id": "nw8NrxqyUYSN",
        "outputId": "d99271d7-8db2-4563-dddb-094751766487"
      },
      "outputs": [
        {
          "name": "stdout",
          "output_type": "stream",
          "text": [
            "HolaHolaHola"
          ]
        }
      ],
      "source": [
        "for i in [1,2,3]:\n",
        "    print(\"Hola\", end=\"\")"
      ]
    },
    {
      "cell_type": "code",
      "execution_count": null,
      "metadata": {
        "id": "zEZiU6xTUYSN",
        "outputId": "6daa1b39-924a-497b-bd14-26e0177e1ff9"
      },
      "outputs": [
        {
          "name": "stdout",
          "output_type": "stream",
          "text": [
            "Hola Hola Hola "
          ]
        }
      ],
      "source": [
        "for i in [1,2,3]:\n",
        "    print(\"Hola\", end=\" \")"
      ]
    },
    {
      "cell_type": "code",
      "execution_count": null,
      "metadata": {
        "id": "QTNqTIYIUYSN",
        "outputId": "0e67480c-c0f7-4972-eac3-6c268b502d83"
      },
      "outputs": [
        {
          "name": "stdout",
          "output_type": "stream",
          "text": [
            "h o l a @ g m a i l . c o m "
          ]
        }
      ],
      "source": [
        "for i in \"hola@gmail.com\":\n",
        "    print(i, end=\" \")"
      ]
    },
    {
      "cell_type": "markdown",
      "metadata": {
        "id": "p7jrgzk2UYSO"
      },
      "source": [
        "#### Ejemplo"
      ]
    },
    {
      "cell_type": "markdown",
      "metadata": {
        "id": "pVrFSmFKUYSO"
      },
      "source": [
        "**Enunciado**: Validar un correo electrónico.\n",
        "\n",
        "En este pequeño ejemplo vamos a combinar:\n",
        "\n",
        "+ Petición de datos `input()`\n",
        "+ Bucle `for`\n",
        "+ Recorrer cadenas.\n",
        "+ 2 usos de la sentencia `if`"
      ]
    },
    {
      "cell_type": "code",
      "execution_count": null,
      "metadata": {
        "id": "jAoMTpOYUYSO"
      },
      "outputs": [],
      "source": [
        "#Creamos una variable que contendra el resultado\n",
        "es_email_correcto = False\n",
        "#Pedimos un correo\n",
        "miEmail = input(\"Introduce una dirección email: \")\n",
        "\n",
        "# Recorremos cada caracter\n",
        "for i in miEmail:\n",
        "\n",
        "    if (i == \"@\"):\n",
        "\n",
        "        es_email_correcto = True\n",
        "\n",
        "if (es_email_correcto == True):\n",
        "    print(\"Email correcto\")\n",
        "else:\n",
        "    print(\"Email falso\")"
      ]
    },
    {
      "cell_type": "markdown",
      "metadata": {
        "id": "KFxDRZtlUYSO"
      },
      "source": [
        "#### Utilizando la función `range()`."
      ]
    },
    {
      "cell_type": "markdown",
      "metadata": {
        "id": "OdssMeRlUYSO"
      },
      "source": [
        "* Nos puede ayudar a hacer un conteo numérico.\n",
        "* Tiene 3 argumentos.\n",
        "* En función del número de parametros que utilizemos al invocar a `range()` su comportamiento variará."
      ]
    },
    {
      "cell_type": "markdown",
      "metadata": {
        "id": "PjijbPYkUYSO"
      },
      "source": [
        "##### Invocación con 1 parámetro"
      ]
    },
    {
      "cell_type": "markdown",
      "metadata": {
        "id": "hc9Xq7PxUYSP"
      },
      "source": [
        "el indicamos a `range`  el número de iteraciones"
      ]
    },
    {
      "cell_type": "code",
      "execution_count": null,
      "metadata": {
        "id": "OPVrBroUUYSP",
        "outputId": "e36d108c-0ce7-423d-a716-a7c4cef21a23"
      },
      "outputs": [
        {
          "name": "stdout",
          "output_type": "stream",
          "text": [
            "Hola\n",
            "Hola\n",
            "Hola\n",
            "Hola\n",
            "Hola\n"
          ]
        }
      ],
      "source": [
        "for i in range(5):\n",
        "    print(\"Hola\")"
      ]
    },
    {
      "cell_type": "code",
      "execution_count": null,
      "metadata": {
        "id": "ZQRWxvhZUYSP",
        "outputId": "ce2fd84b-fba1-456d-878c-a0a89a0f05af"
      },
      "outputs": [
        {
          "name": "stdout",
          "output_type": "stream",
          "text": [
            "0\n",
            "1\n",
            "2\n",
            "3\n",
            "4\n"
          ]
        }
      ],
      "source": [
        "for i in range(5):\n",
        "    print(i)"
      ]
    },
    {
      "cell_type": "markdown",
      "metadata": {
        "id": "7qu2vnpuUYSQ"
      },
      "source": [
        "##### Invocación con 2 parámetros"
      ]
    },
    {
      "cell_type": "markdown",
      "metadata": {
        "id": "j26jXhIhUYSR"
      },
      "source": [
        "Si introducimos **2 parámetros** el comportamiento cambia, `range` realizará tantas iteraciones desde `a` hasta `b`. Esto puede utilizarse de forma regresiva, no siempre el primer parámetro es menor al segundo.\n",
        "\n",
        "**Ejemplos**"
      ]
    },
    {
      "cell_type": "markdown",
      "metadata": {
        "id": "ScpzZyJPUYSS"
      },
      "source": [
        "##### `a < b`"
      ]
    },
    {
      "cell_type": "code",
      "execution_count": null,
      "metadata": {
        "id": "6M7HPyTfUYSS",
        "outputId": "99b8c8ac-07bd-4535-b889-e647c725efce"
      },
      "outputs": [
        {
          "name": "stdout",
          "output_type": "stream",
          "text": [
            "5\n",
            "6\n",
            "7\n",
            "8\n"
          ]
        }
      ],
      "source": [
        "for i in range(5,9):\n",
        "    print(i)"
      ]
    },
    {
      "cell_type": "code",
      "execution_count": null,
      "metadata": {
        "id": "NR8SdjRqUYSS",
        "outputId": "178b6725-794b-4040-ef3a-9d78b02fe885"
      },
      "outputs": [
        {
          "name": "stdout",
          "output_type": "stream",
          "text": [
            "el valor de i es 5\n",
            "el valor de i es 6\n",
            "el valor de i es 7\n",
            "el valor de i es 8\n"
          ]
        }
      ],
      "source": [
        "for i in range(5,9):\n",
        "    print(f\"el valor de i es {i}\")"
      ]
    },
    {
      "cell_type": "markdown",
      "metadata": {
        "id": "_iFmPBSkUYSS"
      },
      "source": [
        "##### `a > b`"
      ]
    },
    {
      "cell_type": "code",
      "execution_count": null,
      "metadata": {
        "id": "IngUkKscUYST"
      },
      "outputs": [],
      "source": [
        "# No va a funcionar en este caso.\n",
        "# Tenemos que introducir el tercer argumento obligatoriamente\n",
        "for i in range(9,5):\n",
        "    print(i)"
      ]
    },
    {
      "cell_type": "markdown",
      "metadata": {
        "id": "NorWEophUYST"
      },
      "source": [
        "##### Invocación con 3 parámetros"
      ]
    },
    {
      "cell_type": "markdown",
      "metadata": {
        "id": "noEbeCrsUYST"
      },
      "source": [
        "el tercer parámetro indica el incremento entre cada una de las iteraciones"
      ]
    },
    {
      "cell_type": "code",
      "execution_count": null,
      "metadata": {
        "id": "VS05-fM0UYSV"
      },
      "outputs": [],
      "source": [
        "for i in range(5,20,3):\n",
        "    print(i)"
      ]
    },
    {
      "cell_type": "code",
      "execution_count": null,
      "metadata": {
        "id": "MjPXfKN-UYSV"
      },
      "outputs": [],
      "source": [
        "for i in range(18,4,-3):\n",
        "    print(i)"
      ]
    },
    {
      "cell_type": "markdown",
      "metadata": {
        "id": "RHMZvE-bUYSV"
      },
      "source": [
        "### WHILE"
      ]
    },
    {
      "cell_type": "markdown",
      "metadata": {
        "id": "bfYkh5-yUYSV"
      },
      "source": [
        "Es un bucle del tipo indeterminado.\n",
        "\n",
        "Es muy utilizado en cualquier lenguaje de programación."
      ]
    },
    {
      "cell_type": "markdown",
      "metadata": {
        "id": "BGMgDtjZUYSV"
      },
      "source": [
        "#### Sintaxis:"
      ]
    },
    {
      "cell_type": "markdown",
      "metadata": {
        "id": "30P3vjE5UYSW"
      },
      "source": [
        "`while` *condición a cumplir*`:`\n",
        "\n",
        "    → *cuerpo del bucle*"
      ]
    },
    {
      "cell_type": "markdown",
      "metadata": {
        "id": "cLaoeXDbUYSW"
      },
      "source": [
        "Este gif explica perfectamente el funcionamiento de un bucle While\n",
        "\n",
        "<img src=\"https://github.com/HugoLebredo/FI_PYTHON_TUTORIAL/blob/main/images/while.gif?raw=1\">"
      ]
    },
    {
      "cell_type": "markdown",
      "metadata": {
        "id": "XXgUYiIRUYSW"
      },
      "source": [
        "Es posible combinar otros bucles o sentencias como `if` dentro de un bucle. Es algo muy normal. Gracias a incluir estas sentencias el bucle puede realizar acciones mucho más complejas y precisas.\n",
        "\n",
        "En el siguiente ejemplo podemos ver como nuestro programa identifica si cada uno de los números entre 1 y 7 son pares (even) o impares (odd).\n",
        "* El bucle while se encarga de ir iterando entre los números\n",
        "* la sentencia `if` es la que comprueba si cada número tiene resto 0.\n",
        "\n",
        "Cosas a fijarse:\n",
        "Estas 7 líneas de código tienen muchas cosas\n",
        "\n",
        "1. Un bucle `while`.\n",
        "2. Una sentencia `if`.\n",
        "3. Un operador de comparación `==`.\n",
        "4. Un operador aritmético `%`.\n",
        "5. Daos cuenta que los 2 operadores se utilizan en la misma línea y que el programa calcula el resto antes de compararlo 😲.\n",
        "6. Una salida por pantalla `print()` que concatena una variable y texto."
      ]
    },
    {
      "cell_type": "markdown",
      "metadata": {
        "id": "B2yta5JlUYSW"
      },
      "source": [
        "<img src = \"../images/bucle.gif\">"
      ]
    },
    {
      "cell_type": "markdown",
      "metadata": {
        "id": "66NOEp-nUYSW"
      },
      "source": [
        "#### Ejemplo Big Bang Theory"
      ]
    },
    {
      "cell_type": "markdown",
      "metadata": {
        "id": "rhCqnlyOUYSX"
      },
      "source": [
        "Sheldon utiliza la lógica de un bucle `while` cuando llama a Penny.\n",
        "La condición de fin de bucle es cuando se abre la puerta. Mientras eso no ocurre el seguirá picando indefinidamente."
      ]
    },
    {
      "cell_type": "markdown",
      "metadata": {
        "id": "NlMRg9mCUYSX"
      },
      "source": [
        "<img src = '../images/big-bang-while.gif'>"
      ]
    },
    {
      "cell_type": "markdown",
      "metadata": {
        "id": "On-rFRMjUYSX"
      },
      "source": [
        "```python\n",
        "\n",
        "    puerta_abierta = False\n",
        "\n",
        "    while puerta_abierta == False :\n",
        "        picar_en_puerta()\n",
        "        llamar_a_Penny()\n",
        "        puerta_abierta = Penny_Saluda()\n",
        "\n",
        "```"
      ]
    },
    {
      "cell_type": "markdown",
      "metadata": {
        "id": "URV669UUUYSX"
      },
      "source": [
        "# Generadores\n",
        "\n",
        "Particularidad de Python. Son estructuras que extraen valores de una forma diferente a la que suele hacerse en otros lenguajes de programación. Esos valores que extraidos se almacenan en objetos iterables, eso quiere decir que vamos a poder recorrer esos objetos con:\n",
        "* Bucles.\n",
        "* Iteradores.\n",
        "* Metodo `next`.\n",
        "\n",
        "Una vez almacenado el valor correspondiente el generador permanecerá en un estado de letargo 😴 hasta que sea solocitado el siguiente valor, esto se conoce como *suspensión de estado*.\n",
        "\n",
        "## Ventajas ✅\n",
        "* Eficiencia en la utilizaciónd de recursos 📈: Al devolvenos los valores de uno en uno se reduce el tiempo y el espacio necesarios para el procesamiento. Esto es muy util cuando  queremos trabajar con un elemento concreto de la lista.\n",
        "* Muy util cuando tenemos que trabajar con listas de valores infinitos.\n",
        "\n",
        "## Sintaxis\n",
        "\n",
        "La principal diferencia es que en lugar de utilizar la instrucción `return`, utiliza la instrucción `yield`. Esta instrucción se encarga de:\n",
        "\n",
        "* construir el valor de la iteración que corresponda.\n",
        "* Enviar al objeto \"contenedor\" el valor generado.\n",
        "* Devolver el control de flujo al programa y pasar el generador al *estado de invernación* hasta que el vuelva a ser llamado.\n",
        "\n",
        "### Declaración.\n",
        "Los generadores se declaran de forma muy parecida a una función esto es:\n",
        "\n",
        "`def` + *nombreGenerador* + `(parametros)` + `:`\n",
        "\n",
        "→ `codigo`\n",
        "\n",
        "→ `yield` + *variable_Retorno*\n",
        "\n",
        "### Llamada.\n",
        "La llamada al generador consta de 2 pasos:\n",
        "\n",
        "1. Asignamos el generador a una variable.\n",
        "\n",
        "```python\n",
        "    valores_devueltos = nombreGenerador()\n",
        "```\n",
        "\n",
        "2. Disparar la siguiente iteración del generador con el operador `next()`.\n",
        "\n",
        "```python\n",
        "    next(valores_devueltos)\n",
        "```\n"
      ]
    },
    {
      "cell_type": "code",
      "execution_count": null,
      "metadata": {
        "id": "E6_Q3UzwUYSX"
      },
      "outputs": [],
      "source": [
        "# Definición de la función\n",
        "\n",
        "def generaPares(limite):\n",
        "    num = 1\n",
        "    miLista = []\n",
        "\n",
        "    while num < limite:\n",
        "        miLista.append(num * 2)\n",
        "        num += 1\n",
        "\n",
        "    return miLista\n",
        "\n",
        "# Llamada de la función dentro de una instrucción print\n",
        "print(generaPares(10))"
      ]
    },
    {
      "cell_type": "code",
      "execution_count": null,
      "metadata": {
        "id": "KXKnj7xIUYSY"
      },
      "outputs": [],
      "source": [
        "# Generador ejemplo 1\n",
        "\n",
        "def generaPares(limite):\n",
        "    num = 1\n",
        "\n",
        "    while num < limite:\n",
        "        yield num * 2\n",
        "        num += 1\n",
        "\n",
        "devuelvePares = generaPares(10)\n",
        "\n",
        "print(\"Aqui podría ir más código 1\")\n",
        "\n",
        "print(next(devuelvePares))\n",
        "\n",
        "print(\"Aqui podría ir más código 2\")\n",
        "\n",
        "print(next(devuelvePares))\n",
        "\n",
        "print(\"Aqui podría ir más código 3\")\n",
        "\n",
        "print(next(devuelvePares))\n"
      ]
    },
    {
      "cell_type": "code",
      "execution_count": null,
      "metadata": {
        "id": "SN4xoAI5UYSY"
      },
      "outputs": [],
      "source": [
        "# Generador ejemplo 2\n",
        "\n",
        "def generaPares(limite):\n",
        "    num = 1\n",
        "\n",
        "    while num < limite:\n",
        "        yield num * 2\n",
        "        num += 1\n",
        "\n",
        "for i in devuelvePares:\n",
        "    print(i)"
      ]
    },
    {
      "cell_type": "code",
      "execution_count": null,
      "metadata": {
        "id": "MccoIpmxUYSY"
      },
      "outputs": [],
      "source": [
        "# Generador yield from\n",
        "\n",
        "def devuelve_ciudades(*ciudades):\n",
        "    for elemento in ciudades:\n",
        "        #for subelemento in elemento:\n",
        "            #yield subelemento\n",
        "        yield from elemento\n",
        "\n",
        "ciudades_devueltas = devuelve_ciudades(\"Oviedo\", \"Gijón\", \"Avilés\")\n",
        "\n",
        "print(next(ciudades_devueltas))\n",
        "print(next(ciudades_devueltas))"
      ]
    },
    {
      "cell_type": "markdown",
      "metadata": {
        "id": "CZy4i05pUYSY"
      },
      "source": [
        "# Excepciones 🚨"
      ]
    },
    {
      "cell_type": "markdown",
      "metadata": {
        "id": "aTaR_CE5UYSZ"
      },
      "source": [
        "Son errores en tiempo de ejecución. Es decir cuando un programa no tiene ningún error de sintaxis y sin embargo, durante la ejecución del programa ocurre un error inesperado.\n",
        "\n",
        "El principal problema de encontrar un error es que si ocurre un error el resto de líneas de código que siguentes a la línea que dió el error no se ejecutarán nunca y el programa se cae.\n",
        "\n",
        "Puede ocurrir que el error dado no sea vital para el desarrollo del programa pero el resto de líneas si que realizan funciones vitales para la ejecución del programa.\n",
        "\n",
        "Con el *manejo de excepciones* vamos a intentar gestionar estos errores"
      ]
    },
    {
      "cell_type": "markdown",
      "metadata": {
        "id": "Tpr6CKTnUYSZ"
      },
      "source": [
        "## Control de excepciónes."
      ]
    },
    {
      "cell_type": "markdown",
      "metadata": {
        "id": "AxRED1hXUYSZ"
      },
      "source": [
        "Esto consiste en decirle a nuestro código de alguna manera \"intenta realizar esta instrucción y en el caso de que no puedas que el resto del programa se ejecute\"."
      ]
    },
    {
      "cell_type": "markdown",
      "metadata": {
        "id": "o3ma5R1aUYSZ"
      },
      "source": [
        "# Lenguajes de programación\n",
        "\n",
        "Podemos categorizar los lenguajes de programación en 2 grandes grupos:\n",
        "\n",
        "* Programación orientada a procedimientos.\n",
        "* Programación orientada a objetos.\n",
        "\n",
        "## Programación orientada a procedimientos\n",
        "\n",
        "Estos lenguajes nacieron en los 60-70. Algunos ejemplos pueden ser:\n",
        "\n",
        "* **Fortran**\n",
        "* **Cobol**\n",
        "* **Basic** (No confundir con **Visual Basic**)\n",
        "\n",
        "### Desventajas progrgamación orientada a procedimientos ❌\n",
        "\n",
        "* Las líneas de código resultantes son muchisimas. Cuanto más compleja es la aplicación más líneas vas a tener pero en estos lenguajes esto se magnifica.\n",
        "* Complejidad a la hora de descifrar el código.\n",
        "* Dificultad en la depuración del código.\n",
        "* Código poco reutilizable.\n",
        "* Si existe algún fallo es probable que se caiga todo el programa.\n",
        "* Código espagueti 🍝. Estos programas tienen intrucciones `GO TO` o `GO SUB` que dan saltos en el flujo de ejecución de un programa. Estas intrucciones dan saltos hacia arriba o abajo en el flujo de ejecución del programa. Hace el código muy enrevesado. Se le llama código espagueti por que al dar estos saltos su forma es muy dificil de seguir el hilo, como un espagueti en un plato de espaguetis.\n",
        "\n",
        "## Programación orientada a objetos\n",
        "\n",
        "Suele denominarse por sus siglas **POO**.\n",
        "\n",
        "Es otra filosofía de encarar la programación donde se trata de poder descomponer el programa en otros más pequeños y que puedan combinarse. Al igual que un puzzle el objetivo es poder crear \"piezas de código\" que sean capaces de interactuar entre si. Por lo que si es necesario añadir una nueva característica al programa no será necesario empezar de cero.\n",
        "\n",
        "### ¿Qué es la POO?\n",
        "Se trata de trasladar el comportamiento que tienen los objetos de la vida real a los lenguajes de programación. En la vida real estamos rodeados de objetos. Se trata de ver que características tienen y trasladarlos al mundo de la programación.\n",
        "Se asume que los objetos poseen\n",
        "\n",
        "* **Estado**: Como se encuentra ese objeto.\n",
        "* **Comportamiento**: Que posibilidades posee ese objeto.\n",
        "* **Propiedades**: Los atributos que posee un objeto.\n",
        "\n",
        "Pongamos el ejemplo de un coche 🚙.\n",
        "\n",
        " * **Estado** ¿Como se encuentra el coche?\n",
        "   * El coche puede encontrarse *aparcado*, *en movimiento*,...\n",
        " * **Comportamiento**: Que posibilidades posee ese objeto.\n",
        "   * El coche puede *arrancar*, *frenar*, *girar*,..\n",
        " * **Propiedades**: Los atributos que posee un objeto.\n",
        "   * *color*, *peso*, *cilindrada*, *consumo*.\n",
        "\n",
        "Algunos ejemplos de lenguajes orientados a objetos son:\n",
        "\n",
        "* **Java**\n",
        "* **C++**\n",
        "* **Visual.NET**\n",
        "### Ventajas ✅\n",
        "* Podemos dividir los programas en trozos.\n",
        "* El código es altamente reutilizable. Herencia.\n",
        "* Si existe algún fallo el programa no se cae. Seguramente la línea que de el error no pueda realizar su tarea, pero el resto del programa continuará su ejecución. Cuanto mayor es el programa más importancia tiene esta característica.\n",
        "* Encapsulamiento.\n",
        "\n",
        "## Terminología POO.\n",
        "\n",
        "* **Clase :** Modelo donde se redactan las características comunes de un grupo de objetos.\n",
        "* **Objeto :**\n",
        "* **Instanciar una clase :** Es lo mismo hablar de ejemplar u objeto de una clase. Cada objeto que pertenece a una clase, aunque cada objeto tenga sus particularidades.\n",
        "* **Modularización :** Lo normal es que en una aplicación se utilicen varias clases. El concepto de modularización cada módulo funciona de forma independiente, permite reutilizar trozos de programación en diferentes programas. Si existe un fallo, solo afecta a la funcionalidad que proporciona esa clase.\n",
        "* **Encapsulamiento :** El funcionamiento interno de cada clase no es accesible por el resto. Una clase se conecta con el resto por medio de los *metodos de acceso* Una clase le pide a otra algo concreto y la clase a la que se hace la petición debe ser capaz de resolver esa petición.\n",
        "* **Herencia :**\n",
        "* **Polimorfismo :**\n",
        "\n",
        "\n"
      ]
    },
    {
      "cell_type": "code",
      "execution_count": null,
      "metadata": {
        "id": "amGojhXWUYSZ"
      },
      "outputs": [],
      "source": [
        "class Coche():\n",
        "    largoChasis = 250\n",
        "    anchoChasis = 120\n",
        "    ruedas = 4\n",
        "    enmarcha = False\n",
        "\n",
        "    def arrancar(self):\n",
        "        self.enmarcha = True\n",
        "\n",
        "miCoche = Coche() #Instanciar\n",
        "print(miCoche.largoChasis)\n",
        "miCoche.arrancar()\n",
        "miCoche.enmarcha"
      ]
    },
    {
      "cell_type": "markdown",
      "metadata": {
        "id": "QqPg6V1HUYSa"
      },
      "source": [
        "# Modulos\n",
        "\n",
        "Son archivos con extensión `py`\n",
        "\n",
        "## ¿Que utilidad tienen?\n",
        "* Organizar y reutilizar código en diferentes aplicaciones.\n",
        "* **Modularizar el código**. Dividir una aplicación compleja en pequeñas partes.\n",
        "\n",
        "## ¿Como se utiliza?\n",
        "Exisiten varias formas. Siempre al comienzo del archivo donde vayamos a trabajar escribiremos\n",
        "\n",
        "1. `import` + *Nombre del modulo*\n",
        "    * Para llamar a alguna función que se encuentre dentro del módulo importado deberemos escribir *Nombre del modulo*.*Nombre de la función*\n",
        "2. `from` + *Nombre del modulo* + `import` + *Nombre de la función*\n",
        "    * De esta manera importamos una única función a nuestro código\n",
        "3. `from` + *Nombre del modulo* + `import` + *\n",
        "    * De esta forma pasamos todas las opciones del módulo. Es menos eficiente porque consume más recursos ya que carga en memoria todas las funciones del módulo importado"
      ]
    },
    {
      "cell_type": "markdown",
      "metadata": {
        "id": "SRCuawc1UYSa"
      },
      "source": [
        "# YA SABEMOS PYTHON!!"
      ]
    },
    {
      "cell_type": "markdown",
      "metadata": {
        "id": "wS2jxcvvUYSa"
      },
      "source": [
        "<img src=\"https://github.com/HugoLebredo/FI_PYTHON_TUTORIAL/blob/main/images/pickleandpeanut.gif?raw=1\">"
      ]
    }
  ],
  "metadata": {
    "interpreter": {
      "hash": "aee8b7b246df8f9039afb4144a1f6fd8d2ca17a180786b69acc140d282b71a49"
    },
    "kernelspec": {
      "display_name": "Python 3.9.0 64-bit",
      "name": "python3"
    },
    "language_info": {
      "codemirror_mode": {
        "name": "ipython",
        "version": 3
      },
      "file_extension": ".py",
      "mimetype": "text/x-python",
      "name": "python",
      "nbconvert_exporter": "python",
      "pygments_lexer": "ipython3",
      "version": "3.9.0 (v3.9.0:9cf6752276, Oct  5 2020, 11:29:23) \n[Clang 6.0 (clang-600.0.57)]"
    },
    "orig_nbformat": 2,
    "colab": {
      "provenance": []
    }
  },
  "nbformat": 4,
  "nbformat_minor": 0
}